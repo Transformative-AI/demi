{
  "nbformat": 4,
  "nbformat_minor": 0,
  "metadata": {
    "colab": {
      "provenance": []
    },
    "kernelspec": {
      "name": "python3",
      "display_name": "Python 3"
    },
    "language_info": {
      "name": "python"
    }
  },
  "cells": [
    {
      "cell_type": "code",
      "execution_count": 14,
      "metadata": {
        "id": "C2ActvB7GYWh"
      },
      "outputs": [],
      "source": [
        "#hide\n",
        "! [ -e /content ] && pip install -Uqq fastbook\n",
        "import fastbook\n",
        "fastbook.setup_book()"
      ]
    },
    {
      "cell_type": "code",
      "source": [
        "import torch"
      ],
      "metadata": {
        "id": "u797wBluLSNY"
      },
      "execution_count": 15,
      "outputs": []
    },
    {
      "cell_type": "code",
      "source": [
        "#hide\n",
        "from fastai.vision.all import *\n",
        "from fastbook import *\n",
        "\n",
        "matplotlib.rc('image', cmap='Greys')"
      ],
      "metadata": {
        "id": "iwUpFIvgIXYJ"
      },
      "execution_count": 16,
      "outputs": []
    },
    {
      "cell_type": "code",
      "source": [
        "# IMPORTANT: RUN THIS CELL IN ORDER TO IMPORT YOUR KAGGLE DATA SOURCES\n",
        "# TO THE CORRECT LOCATION (/kaggle/input) IN YOUR NOTEBOOK,\n",
        "# THEN FEEL FREE TO DELETE THIS CELL.\n",
        "# NOTE: THIS NOTEBOOK ENVIRONMENT DIFFERS FROM KAGGLE'S PYTHON\n",
        "# ENVIRONMENT SO THERE MAY BE MISSING LIBRARIES USED BY YOUR\n",
        "# NOTEBOOK.\n",
        "\n",
        "import os\n",
        "import sys\n",
        "from tempfile import NamedTemporaryFile\n",
        "from urllib.request import urlopen\n",
        "from urllib.parse import unquote, urlparse\n",
        "from urllib.error import HTTPError\n",
        "from zipfile import ZipFile\n",
        "import tarfile\n",
        "import shutil\n",
        "\n",
        "CHUNK_SIZE = 40960\n",
        "DATA_SOURCE_MAPPING = 'fashionmnist:https%3A%2F%2Fstorage.googleapis.com%2Fkaggle-data-sets%2F2243%2F9243%2Fbundle%2Farchive.zip%3FX-Goog-Algorithm%3DGOOG4-RSA-SHA256%26X-Goog-Credential%3Dgcp-kaggle-com%2540kaggle-161607.iam.gserviceaccount.com%252F20240915%252Fauto%252Fstorage%252Fgoog4_request%26X-Goog-Date%3D20240915T045703Z%26X-Goog-Expires%3D259200%26X-Goog-SignedHeaders%3Dhost%26X-Goog-Signature%3D1a4eb1627fb5eedeb89a9a71fa459808376644947817fbdf559d172f19d4abafb1c7023e273a60e0bd04c299f71a8ecdf56416cc125110008e3e6fc7b45e06f22a3c2525b03b6c7d449cf64784cc3da5015606ca4faf28ff5a28420db4e8c9e724df08c51e161248fcff63140b98a413aea981ae422a69ae15587eeed2419ac5fdf02ed8ef8965723059e2df8a01a83309a302e6c9a5de3cca8cba93efbea82789280d1604f2ebda808edefd6008e6a4773d6e0db8f80d63ebcf0ef4b06584356bf873a0bcbb01ea83e9a8f2e7027f80e44484dabdfe8636a770f4205deeeb7b96241b4435851d12615830573e09408ba5ff4afbfbcae86bed62c9d54dc54d08'\n",
        "\n",
        "KAGGLE_INPUT_PATH='/kaggle/input'\n",
        "KAGGLE_WORKING_PATH='/kaggle/working'\n",
        "KAGGLE_SYMLINK='kaggle'\n",
        "\n",
        "!umount /kaggle/input/ 2> /dev/null\n",
        "shutil.rmtree('/kaggle/input', ignore_errors=True)\n",
        "os.makedirs(KAGGLE_INPUT_PATH, 0o777, exist_ok=True)\n",
        "os.makedirs(KAGGLE_WORKING_PATH, 0o777, exist_ok=True)\n",
        "\n",
        "try:\n",
        "  os.symlink(KAGGLE_INPUT_PATH, os.path.join(\"..\", 'input'), target_is_directory=True)\n",
        "except FileExistsError:\n",
        "  pass\n",
        "try:\n",
        "  os.symlink(KAGGLE_WORKING_PATH, os.path.join(\"..\", 'working'), target_is_directory=True)\n",
        "except FileExistsError:\n",
        "  pass\n",
        "\n",
        "for data_source_mapping in DATA_SOURCE_MAPPING.split(','):\n",
        "    directory, download_url_encoded = data_source_mapping.split(':')\n",
        "    download_url = unquote(download_url_encoded)\n",
        "    filename = urlparse(download_url).path\n",
        "    destination_path = os.path.join(KAGGLE_INPUT_PATH, directory)\n",
        "    try:\n",
        "        with urlopen(download_url) as fileres, NamedTemporaryFile() as tfile:\n",
        "            total_length = fileres.headers['content-length']\n",
        "            print(f'Downloading {directory}, {total_length} bytes compressed')\n",
        "            dl = 0\n",
        "            data = fileres.read(CHUNK_SIZE)\n",
        "            while len(data) > 0:\n",
        "                dl += len(data)\n",
        "                tfile.write(data)\n",
        "                done = int(50 * dl / int(total_length))\n",
        "                sys.stdout.write(f\"\\r[{'=' * done}{' ' * (50-done)}] {dl} bytes downloaded\")\n",
        "                sys.stdout.flush()\n",
        "                data = fileres.read(CHUNK_SIZE)\n",
        "            if filename.endswith('.zip'):\n",
        "              with ZipFile(tfile) as zfile:\n",
        "                zfile.extractall(destination_path)\n",
        "            else:\n",
        "              with tarfile.open(tfile.name) as tarfile:\n",
        "                tarfile.extractall(destination_path)\n",
        "            print(f'\\nDownloaded and uncompressed: {directory}')\n",
        "    except HTTPError as e:\n",
        "        print(f'Failed to load (likely expired) {download_url} to path {destination_path}')\n",
        "        continue\n",
        "    except OSError as e:\n",
        "        print(f'Failed to load {download_url} to path {destination_path}')\n",
        "        continue\n",
        "\n",
        "print('Data source import complete.')\n"
      ],
      "metadata": {
        "colab": {
          "base_uri": "https://localhost:8080/"
        },
        "id": "4gcyM7T_1FcZ",
        "outputId": "2bfa98f1-9ce2-4fec-8cac-8b968e6d583a"
      },
      "execution_count": 17,
      "outputs": [
        {
          "output_type": "stream",
          "name": "stdout",
          "text": [
            "Downloading fashionmnist, 72114846 bytes compressed\n",
            "[==================================================] 72114846 bytes downloaded\n",
            "Downloaded and uncompressed: fashionmnist\n",
            "Data source import complete.\n"
          ]
        }
      ]
    },
    {
      "cell_type": "code",
      "source": [
        "# Load Fashion MNIST data\n",
        "from subprocess import check_output\n",
        "print(check_output([\"ls\", \"../input\"]).decode(\"utf8\"))\n",
        "import pandas as pd\n",
        "import numpy as np\n",
        "import warnings\n",
        "warnings.filterwarnings('ignore')\n",
        "import matplotlib.pyplot as plt\n",
        "from sklearn.model_selection import train_test_split\n",
        "import keras\n",
        "from keras.models import Sequential\n",
        "from keras.layers import Conv2D,MaxPooling2D,Dense,Flatten,Dropout\n",
        "from keras.optimizers import Adam\n",
        "from keras.callbacks import TensorBoard\n",
        "num_classes = 10\n",
        "epochs = 20"
      ],
      "metadata": {
        "colab": {
          "base_uri": "https://localhost:8080/"
        },
        "id": "MHYSDTDB0m-u",
        "outputId": "b555137d-585d-4b24-9636-d96b4c9db75e"
      },
      "execution_count": 18,
      "outputs": [
        {
          "output_type": "stream",
          "name": "stdout",
          "text": [
            "fashionmnist\n",
            "\n"
          ]
        }
      ]
    },
    {
      "cell_type": "code",
      "source": [
        "# Create dataframes for train and test datasets\n",
        "train_df = pd.read_csv('../input/fashionmnist/fashion-mnist_train.csv',sep=',')\n",
        "test_df = pd.read_csv('../input/fashionmnist/fashion-mnist_test.csv', sep = ',')"
      ],
      "metadata": {
        "id": "q9712PRr03sM"
      },
      "execution_count": 19,
      "outputs": []
    },
    {
      "cell_type": "code",
      "source": [
        "# Convert dataframes into numpy arrays of float32 type\n",
        "train_data = np.array(train_df, dtype = 'float32')\n",
        "test_data = np.array(test_df, dtype='float32')"
      ],
      "metadata": {
        "id": "V_7Oh1uY1uFv"
      },
      "execution_count": 20,
      "outputs": []
    },
    {
      "cell_type": "code",
      "source": [
        "# Slice train arrays into x and y arrays with image and label data\n",
        "x_train = train_data[:,1:]/255\n",
        "y_train = train_data[:,0]\n",
        "x_test= test_data[:,1:]/255\n",
        "y_test=test_data[:,0]\n",
        "y_train.shape\n",
        "len(y_train)"
      ],
      "metadata": {
        "colab": {
          "base_uri": "https://localhost:8080/"
        },
        "id": "bNQvYyAA159w",
        "outputId": "5c23f9fc-f1a9-4ae5-ccfa-87bfc8d5f404"
      },
      "execution_count": 21,
      "outputs": [
        {
          "output_type": "execute_result",
          "data": {
            "text/plain": [
              "60000"
            ]
          },
          "metadata": {},
          "execution_count": 21
        }
      ]
    },
    {
      "cell_type": "code",
      "source": [
        "# Split training data into validation and actual training data\n",
        "x_train,x_validate,y_train,y_validate = train_test_split(x_train,y_train,test_size = 0.2,random_state = 12345)\n"
      ],
      "metadata": {
        "id": "3p5PQfV22Iqs"
      },
      "execution_count": 22,
      "outputs": []
    },
    {
      "cell_type": "code",
      "source": [
        "# Split out Training T-shirt and sneaker images into their lists\n",
        "t_shirts = []\n",
        "sneakers = []\n",
        "\n",
        "for i in range (len(x_train)):\n",
        "  if y_train[i] == 0:\n",
        "    t_shirts.append(x_train[i])\n",
        "  if y_train[i] == 7:\n",
        "    sneakers.append(x_train[i])"
      ],
      "metadata": {
        "id": "6b9-aLYu2Vq5"
      },
      "execution_count": 23,
      "outputs": []
    },
    {
      "cell_type": "code",
      "source": [
        "# Split out Validation T-shirt and sneaker images into their lists\n",
        "t_shirts_validate = []\n",
        "sneakers_validate = []\n",
        "\n",
        "for i in range (len(x_validate)):\n",
        "  if y_validate[i] == 0:\n",
        "    t_shirts_validate.append(x_validate[i])\n",
        "  if y_validate[i] == 7:\n",
        "    sneakers_validate.append(x_validate[i])"
      ],
      "metadata": {
        "id": "qC9dv-eCBoO8"
      },
      "execution_count": 24,
      "outputs": []
    },
    {
      "cell_type": "code",
      "source": [
        "# Show one training T-shirt image to check\n",
        "plt.imshow(t_shirts[0].reshape(28,28))\n",
        "len(t_shirts)\n"
      ],
      "metadata": {
        "colab": {
          "base_uri": "https://localhost:8080/",
          "height": 452
        },
        "id": "aJX3-8Cw3dRe",
        "outputId": "732daa90-ae89-45e2-cc16-32cdf9e84265"
      },
      "execution_count": 25,
      "outputs": [
        {
          "output_type": "execute_result",
          "data": {
            "text/plain": [
              "4825"
            ]
          },
          "metadata": {},
          "execution_count": 25
        },
        {
          "output_type": "display_data",
          "data": {
            "text/plain": [
              "<Figure size 640x480 with 1 Axes>"
            ],
            "image/png": "[encoded data removed]"
          },
          "metadata": {}
        }
      ]
    },
    {
      "cell_type": "code",
      "source": [
        "# Show one validation T-shirt image to check\n",
        "plt.imshow(t_shirts_validate[0].reshape(28,28))\n",
        "len(t_shirts_validate)"
      ],
      "metadata": {
        "colab": {
          "base_uri": "https://localhost:8080/",
          "height": 452
        },
        "id": "oeo4au4dD-LO",
        "outputId": "83055a4c-a6cd-44da-8081-6ea94d64a135"
      },
      "execution_count": 26,
      "outputs": [
        {
          "output_type": "execute_result",
          "data": {
            "text/plain": [
              "1175"
            ]
          },
          "metadata": {},
          "execution_count": 26
        },
        {
          "output_type": "display_data",
          "data": {
            "text/plain": [
              "<Figure size 640x480 with 1 Axes>"
            ],
            "image/png": "[encoded data removed]"
          },
          "metadata": {}
        }
      ]
    },
    {
      "cell_type": "code",
      "source": [
        "# Show one training sneaker image to check\n",
        "plt.imshow(sneakers[0].reshape(28,28))\n",
        "len(sneakers)\n"
      ],
      "metadata": {
        "colab": {
          "base_uri": "https://localhost:8080/",
          "height": 452
        },
        "id": "88Qn2Xnq33RQ",
        "outputId": "4a664a17-932f-4723-9862-3eac3a63091e"
      },
      "execution_count": 27,
      "outputs": [
        {
          "output_type": "execute_result",
          "data": {
            "text/plain": [
              "4787"
            ]
          },
          "metadata": {},
          "execution_count": 27
        },
        {
          "output_type": "display_data",
          "data": {
            "text/plain": [
              "<Figure size 640x480 with 1 Axes>"
            ],
            "image/png": "[encoded data removed]"
          },
          "metadata": {}
        }
      ]
    },
    {
      "cell_type": "code",
      "source": [
        "# Show one validation sneaker image to check\n",
        "plt.imshow(sneakers_validate[0].reshape(28,28))\n",
        "len(sneakers_validate)"
      ],
      "metadata": {
        "colab": {
          "base_uri": "https://localhost:8080/",
          "height": 452
        },
        "id": "X9w3oDECELzw",
        "outputId": "e857bf3c-eae8-463d-ed81-98924396b39c"
      },
      "execution_count": 28,
      "outputs": [
        {
          "output_type": "execute_result",
          "data": {
            "text/plain": [
              "1213"
            ]
          },
          "metadata": {},
          "execution_count": 28
        },
        {
          "output_type": "display_data",
          "data": {
            "text/plain": [
              "<Figure size 640x480 with 1 Axes>"
            ],
            "image/png": "[encoded data removed]"
          },
          "metadata": {}
        }
      ]
    },
    {
      "cell_type": "code",
      "source": [
        "# Creating a list of tensors with tshirt training data\n",
        "\n",
        "tshirt_tensor_list = []\n",
        "for t_shirt in t_shirts:\n",
        "  tshirt_tensor_list.append(tensor(t_shirt))\n",
        "tshirt_tensor_tuple = tuple(tshirt_tensor_list)\n",
        "\n",
        "# Creating a list of tensors with sneakers training data\n",
        "\n",
        "sneaker_tensor_list = []\n",
        "for sneaker in sneakers:\n",
        "  sneaker_tensor_list.append(tensor(sneaker))\n",
        "sneaker_tensor_tuple = tuple(sneaker_tensor_list)\n",
        "\n",
        "# Checking the length of the tshirt tensor list and sneaker tensor list\n",
        "\n",
        "len(tshirt_tensor_list),len(sneaker_tensor_list)"
      ],
      "metadata": {
        "colab": {
          "base_uri": "https://localhost:8080/"
        },
        "id": "cw_Sj5V-I1pQ",
        "outputId": "286d6a98-889d-424b-b6ef-a64e54b34749"
      },
      "execution_count": 31,
      "outputs": [
        {
          "output_type": "execute_result",
          "data": {
            "text/plain": [
              "(4825, 4787)"
            ]
          },
          "metadata": {},
          "execution_count": 31
        }
      ]
    },
    {
      "cell_type": "code",
      "source": [
        "# Similar to the training set, creating a list of tensors with tshirt validation data\n",
        "\n",
        "tshirt_validate_tensor_list = []\n",
        "for t_shirt in t_shirts_validate:\n",
        "  tshirt_validate_tensor_list.append(tensor(t_shirt))\n",
        "tshirt_validate_tensor_tuple = tuple(tshirt_validate_tensor_list)\n",
        "\n",
        "# Creating a list of tensors with sneaker validation data\n",
        "\n",
        "sneaker_validate_tensor_list = []\n",
        "for sneaker in sneakers_validate:\n",
        "  sneaker_validate_tensor_list.append(tensor(sneaker))\n",
        "sneaker_validate_tensor_tuple = tuple(sneaker_validate_tensor_list)\n",
        "\n",
        "# Checking the length of the tshirt tensor list and sneaker tensor list\n",
        "# The validation set is 20% of the full dataset\n",
        "\n",
        "len(tshirt_validate_tensor_list),len(sneaker_validate_tensor_list)"
      ],
      "metadata": {
        "colab": {
          "base_uri": "https://localhost:8080/"
        },
        "id": "WN2cxXlBCNpy",
        "outputId": "92488d33-6ec9-4f2d-9d0e-645b88fb2af6"
      },
      "execution_count": 32,
      "outputs": [
        {
          "output_type": "execute_result",
          "data": {
            "text/plain": [
              "(1175, 1213)"
            ]
          },
          "metadata": {},
          "execution_count": 32
        }
      ]
    },
    {
      "cell_type": "code",
      "source": [
        "# Stack the t-shirt tensors into a single tensor and convert to float\n",
        "# Stack the sneaker tensors into a single tensor and convert to float\n",
        "# Normalize pixel values to be between 0 and 1\n",
        "# Print the shape of the stacked t-shirts tensor\n",
        "\n",
        "stacked_tshirts = torch.stack(tshirt_tensor_tuple).float()/255\n",
        "stacked_sneakers = torch.stack(sneaker_tensor_tuple).float()/255\n",
        "stacked_tshirts.shape"
      ],
      "metadata": {
        "colab": {
          "base_uri": "https://localhost:8080/"
        },
        "id": "YhjahjymI5a-",
        "outputId": "2ec87176-9163-448d-e8cc-0009b3d30b95"
      },
      "execution_count": 33,
      "outputs": [
        {
          "output_type": "execute_result",
          "data": {
            "text/plain": [
              "torch.Size([4825, 784])"
            ]
          },
          "metadata": {},
          "execution_count": 33
        }
      ]
    },
    {
      "cell_type": "code",
      "source": [
        "# Stack the t-shirt validation tensors into a single tensor and convert to float\n",
        "# Stack the sneaker validation tensors into a single tensor and convert to float\n",
        "# Normalize pixel values to be between 0 and 1\n",
        "# Print the shape of the stacked t-shirts validation tensor\n",
        "\n",
        "stacked_tshirts_validate = torch.stack(tshirt_validate_tensor_tuple).float()/255\n",
        "stacked_sneakers_validate = torch.stack(sneaker_validate_tensor_tuple).float()/255\n",
        "stacked_tshirts_validate.shape"
      ],
      "metadata": {
        "colab": {
          "base_uri": "https://localhost:8080/"
        },
        "id": "K6CQvdMKE5wr",
        "outputId": "76a734ee-f05c-4778-fec1-c727ea49a7a0"
      },
      "execution_count": 34,
      "outputs": [
        {
          "output_type": "execute_result",
          "data": {
            "text/plain": [
              "torch.Size([1175, 784])"
            ]
          },
          "metadata": {},
          "execution_count": 34
        }
      ]
    },
    {
      "cell_type": "code",
      "source": [
        "# Calculate the mean t-shirt image by averaging all t-shirt images in the stack\n",
        "# Reshape the mean t-shirt tensor to a 28x28 image and display it\n",
        "\n",
        "mean_tshirt = stacked_tshirts.mean(0)\n",
        "show_image(mean_tshirt.reshape(28,28));"
      ],
      "metadata": {
        "colab": {
          "base_uri": "https://localhost:8080/",
          "height": 114
        },
        "id": "t83m6RYMI_ej",
        "outputId": "399fcb6d-d95e-4ebc-e4c7-ebfcfc165ed4"
      },
      "execution_count": 35,
      "outputs": [
        {
          "output_type": "display_data",
          "data": {
            "text/plain": [
              "<Figure size 100x100 with 1 Axes>"
            ],
            "image/png": "[encoded data removed]"
          },
          "metadata": {}
        }
      ]
    },
    {
      "cell_type": "code",
      "source": [
        "# Calculate the mean sneaker image by averaging all sneaker images in the stack\n",
        "# Reshape the mean sneaker tensor to a 28x28 image and display it\n",
        "\n",
        "mean_sneaker = stacked_sneakers.mean(0)\n",
        "show_image(mean_sneaker.reshape(28,28));"
      ],
      "metadata": {
        "colab": {
          "base_uri": "https://localhost:8080/",
          "height": 114
        },
        "id": "YZ-3no4oBK1e",
        "outputId": "c72d6aec-321e-4a66-b069-e5d0bdf45e89"
      },
      "execution_count": 36,
      "outputs": [
        {
          "output_type": "display_data",
          "data": {
            "text/plain": [
              "<Figure size 100x100 with 1 Axes>"
            ],
            "image/png": "[encoded data removed]"
          },
          "metadata": {}
        }
      ]
    },
    {
      "cell_type": "code",
      "source": [
        "#  Define a function to calculate the distance between two images\n",
        "\n",
        "def mnist_distance(a,b): return (a-b).abs().mean((-1,-2))"
      ],
      "metadata": {
        "id": "Dxuxn1twJj_8"
      },
      "execution_count": 37,
      "outputs": []
    },
    {
      "cell_type": "code",
      "source": [
        "# Define a function that determines whether an image is a tshirt\n",
        "\n",
        "def is_tshirt(x): return mnist_distance(x,mean_tshirt) < mnist_distance(x,mean_sneaker)"
      ],
      "metadata": {
        "id": "Kc2kD4xfKAFy"
      },
      "execution_count": 38,
      "outputs": []
    },
    {
      "cell_type": "code",
      "source": [
        "# We concatenate the tshirt and the sneakers tensors\n",
        "\n",
        "train_x = torch.cat([stacked_tshirts, stacked_sneakers]).view(-1, 28*28)"
      ],
      "metadata": {
        "id": "OKFUEPqsNkzZ"
      },
      "execution_count": 41,
      "outputs": []
    },
    {
      "cell_type": "code",
      "source": [
        "# Check the lengths of the tshirt and sneakers lists\n",
        "\n",
        "len(t_shirts), len(sneakers), len(t_shirt)"
      ],
      "metadata": {
        "colab": {
          "base_uri": "https://localhost:8080/"
        },
        "id": "DYA0A_8xm8SR",
        "outputId": "e8465e8b-d97d-4141-db7c-6f31bee2682d"
      },
      "execution_count": 42,
      "outputs": [
        {
          "output_type": "execute_result",
          "data": {
            "text/plain": [
              "(4825, 4787, 784)"
            ]
          },
          "metadata": {},
          "execution_count": 42
        }
      ]
    },
    {
      "cell_type": "code",
      "source": [
        "# Create data set for training images\n",
        "\n",
        "\n",
        "train_y = tensor([1]*len(t_shirts) + [0]*len(sneakers)).unsqueeze(1)\n",
        "train_x.shape,train_y.shape\n",
        "dset = list(zip(train_x,train_y))\n",
        "train_x.shape, train_y.shape"
      ],
      "metadata": {
        "colab": {
          "base_uri": "https://localhost:8080/"
        },
        "id": "J3fxqVUXN9pa",
        "outputId": "21e7c153-a57e-4a85-a968-3216f3d1cf68"
      },
      "execution_count": 43,
      "outputs": [
        {
          "output_type": "execute_result",
          "data": {
            "text/plain": [
              "(torch.Size([9612, 784]), torch.Size([9612, 1]))"
            ]
          },
          "metadata": {},
          "execution_count": 43
        }
      ]
    },
    {
      "cell_type": "code",
      "source": [
        "# Create data set for validation images\n",
        "\n",
        "valid_x = torch.cat([stacked_tshirts_validate, stacked_sneakers_validate]).view(-1, 28*28)\n",
        "valid_y = tensor([1]*len(stacked_tshirts_validate) + [0]*len(stacked_sneakers_validate)).unsqueeze(1)\n",
        "valid_dset = list(zip(valid_x,valid_y))\n",
        "valid_x.shape, valid_y.shape"
      ],
      "metadata": {
        "colab": {
          "base_uri": "https://localhost:8080/"
        },
        "id": "DQA10jfBOCLN",
        "outputId": "9f4c5dfb-abcd-4ed2-fe0e-19c3f950cc37"
      },
      "execution_count": 44,
      "outputs": [
        {
          "output_type": "execute_result",
          "data": {
            "text/plain": [
              "(torch.Size([2388, 784]), torch.Size([2388, 1]))"
            ]
          },
          "metadata": {},
          "execution_count": 44
        }
      ]
    },
    {
      "cell_type": "code",
      "source": [
        "# Initialize weights and bias with random values\n",
        "def init_params(size, std=1.0): return (torch.randn(size)*std).requires_grad_()\n",
        "\n",
        "weights = init_params((28*28,1))\n",
        "bias = init_params(1)"
      ],
      "metadata": {
        "id": "n3I7uQTpOEDU"
      },
      "execution_count": 45,
      "outputs": []
    },
    {
      "cell_type": "code",
      "source": [
        "# Calculate prediction for one image\n",
        "#(train_x[0]*weights.T).sum() + bias"
      ],
      "metadata": {
        "colab": {
          "base_uri": "https://localhost:8080/"
        },
        "id": "C3EFWtd_qfc2",
        "outputId": "4859acb1-823f-4a1a-fe28-a98d6699699c"
      },
      "execution_count": 46,
      "outputs": [
        {
          "output_type": "execute_result",
          "data": {
            "text/plain": [
              "tensor([0.3575], grad_fn=<AddBackward0>)"
            ]
          },
          "metadata": {},
          "execution_count": 46
        }
      ]
    },
    {
      "cell_type": "code",
      "source": [
        "# Define a function to perform a linear transformation\n",
        "# Generate predictions using the linear1 function on the training data\n",
        "# Display the predictions\n",
        "\n",
        "\n",
        "def linear1(xb): return xb@weights + bias\n",
        "preds = linear1(train_x)\n",
        "preds"
      ],
      "metadata": {
        "colab": {
          "base_uri": "https://localhost:8080/"
        },
        "id": "smBHRSelqpFU",
        "outputId": "c4cb241a-0ee2-4b87-88b7-ae4524d23178"
      },
      "execution_count": 47,
      "outputs": [
        {
          "output_type": "execute_result",
          "data": {
            "text/plain": [
              "tensor([[0.3575],\n",
              "        [0.3281],\n",
              "        [0.2681],\n",
              "        ...,\n",
              "        [0.3379],\n",
              "        [0.3626],\n",
              "        [0.3622]], grad_fn=<AddBackward0>)"
            ]
          },
          "metadata": {},
          "execution_count": 47
        }
      ]
    },
    {
      "cell_type": "code",
      "source": [
        "# Compare predictions to actual labels to determine correctness\n",
        "# Compares the converted predictions to the true labels\n",
        "\n",
        "corrects = (preds>0.0).float() == train_y\n",
        "corrects"
      ],
      "metadata": {
        "colab": {
          "base_uri": "https://localhost:8080/"
        },
        "id": "4cNvYrKiqvlW",
        "outputId": "0931000d-90e5-448f-b79d-90bc9c6b584c"
      },
      "execution_count": 48,
      "outputs": [
        {
          "output_type": "execute_result",
          "data": {
            "text/plain": [
              "tensor([[ True],\n",
              "        [ True],\n",
              "        [ True],\n",
              "        ...,\n",
              "        [False],\n",
              "        [False],\n",
              "        [False]])"
            ]
          },
          "metadata": {},
          "execution_count": 48
        }
      ]
    },
    {
      "cell_type": "code",
      "source": [
        "# Calculate the accuracy of the predictions\n",
        "\n",
        "corrects.float().mean().item()"
      ],
      "metadata": {
        "colab": {
          "base_uri": "https://localhost:8080/"
        },
        "id": "RUr8RIMRq006",
        "outputId": "5b2ab03a-f899-4bdb-ad13-c286e788c8bd"
      },
      "execution_count": 49,
      "outputs": [
        {
          "output_type": "execute_result",
          "data": {
            "text/plain": [
              "0.5019766688346863"
            ]
          },
          "metadata": {},
          "execution_count": 49
        }
      ]
    },
    {
      "cell_type": "code",
      "source": [
        "# Define a custom loss function for MNIST classification\n",
        "\n",
        "def mnist_loss(predictions, targets):\n",
        "    predictions = predictions.sigmoid()\n",
        "    return torch.where(targets==1, 1-predictions, predictions).mean()"
      ],
      "metadata": {
        "id": "iQDdG5u4PCzO"
      },
      "execution_count": 50,
      "outputs": []
    },
    {
      "cell_type": "code",
      "source": [
        "# Initialize weight and bias parameters\n",
        "\n",
        "weights = init_params((28*28,1))\n",
        "bias = init_params(1)"
      ],
      "metadata": {
        "id": "3TX4wvRgPLH0"
      },
      "execution_count": 51,
      "outputs": []
    },
    {
      "cell_type": "code",
      "source": [
        "# Create Data Loader for training data\n",
        "\n",
        "dl = DataLoader(dset, batch_size=256, shuffle=True)\n",
        "xb,yb = first(dl)\n",
        "xb.shape,yb.shape"
      ],
      "metadata": {
        "colab": {
          "base_uri": "https://localhost:8080/"
        },
        "id": "ujOVVdPnPMri",
        "outputId": "0fe62eca-3341-4125-f54a-92865c2dca00"
      },
      "execution_count": 52,
      "outputs": [
        {
          "output_type": "execute_result",
          "data": {
            "text/plain": [
              "(torch.Size([256, 784]), torch.Size([256, 1]))"
            ]
          },
          "metadata": {},
          "execution_count": 52
        }
      ]
    },
    {
      "cell_type": "code",
      "source": [
        "# Create Data Loader for validation data\n",
        "\n",
        "valid_dl = DataLoader(valid_dset, batch_size=256, shuffle=True)"
      ],
      "metadata": {
        "id": "Ircfk0E2POLp"
      },
      "execution_count": 53,
      "outputs": []
    },
    {
      "cell_type": "code",
      "source": [
        "# Create a mini batch for testing\n",
        "\n",
        "batch = train_x[:4]\n",
        "#batch.shape\n",
        "\n",
        "#show_image(train_x[10].reshape(28,28));\n",
        "class_names = ['Sneaker', 'T-shirt']\n",
        "plt.figure(figsize=(10, 10))\n",
        "for i in range(36):\n",
        "    plt.subplot(6, 6, i + 1)\n",
        "    plt.xticks([])\n",
        "    plt.yticks([])\n",
        "    plt.grid(False)\n",
        "    plt.imshow(xb[i].reshape((28,28)))\n",
        "    label_index = int(yb[i])\n",
        "    plt.title(class_names[label_index])\n",
        "plt.show()"
      ],
      "metadata": {
        "colab": {
          "base_uri": "https://localhost:8080/",
          "height": 825
        },
        "id": "e7GCpsiUrGsK",
        "outputId": "b5fed935-d295-4285-b75b-8933743e7c08"
      },
      "execution_count": 54,
      "outputs": [
        {
          "output_type": "display_data",
          "data": {
            "text/plain": [
              "<Figure size 1000x1000 with 36 Axes>"
            ],
            "image/png": "[encoded data removed]"
          },
          "metadata": {}
        }
      ]
    },
    {
      "cell_type": "code",
      "source": [
        "# Generate predictions for a batch of data using the linear1 function\n",
        "\n",
        "preds = linear1(batch)\n",
        "preds"
      ],
      "metadata": {
        "colab": {
          "base_uri": "https://localhost:8080/"
        },
        "id": "4hfftl3ErNgW",
        "outputId": "775266fd-ed4d-471a-be36-235c1f7dc2b9"
      },
      "execution_count": 82,
      "outputs": [
        {
          "output_type": "execute_result",
          "data": {
            "text/plain": [
              "tensor([[0.3105],\n",
              "        [0.3085],\n",
              "        [0.2086],\n",
              "        [0.2690]], grad_fn=<AddBackward0>)"
            ]
          },
          "metadata": {},
          "execution_count": 82
        }
      ]
    },
    {
      "cell_type": "code",
      "source": [
        "# Calculate the loss for the first 4 predictions using the mnist_loss function\n",
        "\n",
        "loss = mnist_loss(preds, train_y[:4])\n",
        "loss"
      ],
      "metadata": {
        "colab": {
          "base_uri": "https://localhost:8080/"
        },
        "id": "GSbQsdX6rSus",
        "outputId": "81c17393-e899-4565-b061-215889a207f5"
      },
      "execution_count": 56,
      "outputs": [
        {
          "output_type": "execute_result",
          "data": {
            "text/plain": [
              "tensor(0.5730, grad_fn=<MeanBackward0>)"
            ]
          },
          "metadata": {},
          "execution_count": 56
        }
      ]
    },
    {
      "cell_type": "code",
      "source": [
        "# Calculate the gradients of the loss with respect to the model parameters\n",
        "\n",
        "loss.backward()\n",
        "weights.grad.shape,weights.grad.mean(),bias.grad"
      ],
      "metadata": {
        "colab": {
          "base_uri": "https://localhost:8080/"
        },
        "id": "w1xCXzctrW0c",
        "outputId": "78064047-7ba1-40e0-da34-2831ae4dae76"
      },
      "execution_count": 57,
      "outputs": [
        {
          "output_type": "execute_result",
          "data": {
            "text/plain": [
              "(torch.Size([784, 1]), tensor(-0.0004), tensor([-0.2446]))"
            ]
          },
          "metadata": {},
          "execution_count": 57
        }
      ]
    },
    {
      "cell_type": "code",
      "source": [
        "# Define a function to calculate the gradients for a batch of data\n",
        "\n",
        "def calc_grad(xb, yb, model):\n",
        "    preds = model(xb)\n",
        "    loss = mnist_loss(preds, yb)\n",
        "    loss.backward()"
      ],
      "metadata": {
        "id": "T0cpuTtOPdUH"
      },
      "execution_count": 58,
      "outputs": []
    },
    {
      "cell_type": "code",
      "source": [
        "# Test the calc_grad function\n",
        "\n",
        "#calc_grad(batch, train_y[:4], linear1)\n",
        "#weights.grad.mean(),bias.grad"
      ],
      "metadata": {
        "colab": {
          "base_uri": "https://localhost:8080/"
        },
        "id": "Bgm8qvSSrcxv",
        "outputId": "4cc487c5-f16c-48d0-b5c4-df44eff4f9bc"
      },
      "execution_count": 59,
      "outputs": [
        {
          "output_type": "execute_result",
          "data": {
            "text/plain": [
              "(tensor(-0.0008), tensor([-0.4893]))"
            ]
          },
          "metadata": {},
          "execution_count": 59
        }
      ]
    },
    {
      "cell_type": "code",
      "source": [
        "# Calculate gradients for the batch using the calc_grad function and linear1 model\n",
        "\n",
        "calc_grad(batch, train_y[:4], linear1)\n",
        "weights.grad.mean(),bias.grad"
      ],
      "metadata": {
        "colab": {
          "base_uri": "https://localhost:8080/"
        },
        "id": "k7XK6-kXrjDa",
        "outputId": "740c5333-3f4c-4a53-c37b-73a50e1b43be"
      },
      "execution_count": 60,
      "outputs": [
        {
          "output_type": "execute_result",
          "data": {
            "text/plain": [
              "(tensor(-0.0012), tensor([-0.7339]))"
            ]
          },
          "metadata": {},
          "execution_count": 60
        }
      ]
    },
    {
      "cell_type": "code",
      "source": [
        "# Reset the gradients of the weights and bias to zero\n",
        "\n",
        "weights.grad.zero_()\n",
        "bias.grad.zero_();"
      ],
      "metadata": {
        "id": "Au56CsJMrqFk"
      },
      "execution_count": 61,
      "outputs": []
    },
    {
      "cell_type": "code",
      "source": [
        "# Define a function to train the model for one epoch\n",
        "\n",
        "def train_epoch(model, lr, params):\n",
        "    for xb,yb in dl:\n",
        "        calc_grad(xb, yb, model)\n",
        "        for p in params:\n",
        "            p.data -= p.grad*lr\n",
        "            p.grad.zero_()"
      ],
      "metadata": {
        "id": "12eARGC5Piqd"
      },
      "execution_count": 62,
      "outputs": []
    },
    {
      "cell_type": "code",
      "source": [
        "# Compare predictions to the first 4 true labels\n",
        "\n",
        "(preds>0.0).float() == train_y[:4]"
      ],
      "metadata": {
        "colab": {
          "base_uri": "https://localhost:8080/"
        },
        "id": "Ea79jww0Ppcd",
        "outputId": "e77a93b8-4c87-4786-f349-774d4537f1bd"
      },
      "execution_count": 63,
      "outputs": [
        {
          "output_type": "execute_result",
          "data": {
            "text/plain": [
              "tensor([[False],\n",
              "        [False],\n",
              "        [False],\n",
              "        [False]])"
            ]
          },
          "metadata": {},
          "execution_count": 63
        }
      ]
    },
    {
      "cell_type": "code",
      "source": [
        "# Define a function to calculate accuracy for a batch of data\n",
        "\n",
        "def batch_accuracy(xb, yb):\n",
        "    preds = xb.sigmoid()\n",
        "    correct = (preds>0.5) == yb\n",
        "    return correct.float().mean()"
      ],
      "metadata": {
        "id": "uCd41pJfPpnr"
      },
      "execution_count": 64,
      "outputs": []
    },
    {
      "cell_type": "code",
      "source": [
        "# Calculate the accuracy of predictions for the batch using the batch_accuracy function\n",
        "\n",
        "batch_accuracy(linear1(batch), train_y[:4])"
      ],
      "metadata": {
        "colab": {
          "base_uri": "https://localhost:8080/"
        },
        "id": "Tv2l6wQPPpx4",
        "outputId": "92f6e488-b484-442c-96e9-2ecb39c21a34"
      },
      "execution_count": 65,
      "outputs": [
        {
          "output_type": "execute_result",
          "data": {
            "text/plain": [
              "tensor(0.)"
            ]
          },
          "metadata": {},
          "execution_count": 65
        }
      ]
    },
    {
      "cell_type": "code",
      "source": [
        "# Define a function to calculate the validation accuracy for an epoch\n",
        "\n",
        "def validate_epoch(model):\n",
        "    accs = [batch_accuracy(model(xb), yb) for xb,yb in valid_dl]\n",
        "    return round(torch.stack(accs).mean().item(), 4)"
      ],
      "metadata": {
        "id": "v6ILmaw4Pvtq"
      },
      "execution_count": 66,
      "outputs": []
    },
    {
      "cell_type": "code",
      "source": [
        "# Calculate and print the validation accuracy for the linear1 model\n",
        "\n",
        "validate_epoch(linear1)"
      ],
      "metadata": {
        "colab": {
          "base_uri": "https://localhost:8080/"
        },
        "id": "V1b3fB91Pv2-",
        "outputId": "2dc67371-b6d0-4dec-950d-49fee5ed7d24"
      },
      "execution_count": 67,
      "outputs": [
        {
          "output_type": "execute_result",
          "data": {
            "text/plain": [
              "0.509"
            ]
          },
          "metadata": {},
          "execution_count": 67
        }
      ]
    },
    {
      "cell_type": "code",
      "source": [
        "# Set the learning rate\n",
        "# Train the model for one epoch using the specified learning rate and parameters\n",
        "# And calculate and print the validation accuracy after training\n",
        "\n",
        "\n",
        "lr = 2.\n",
        "params = weights,bias\n",
        "train_epoch(linear1, lr, params)\n",
        "validate_epoch(linear1)"
      ],
      "metadata": {
        "colab": {
          "base_uri": "https://localhost:8080/"
        },
        "id": "-GwPkdgUPv_9",
        "outputId": "d386fd59-008a-48d1-ac54-bde1364a988b"
      },
      "execution_count": 68,
      "outputs": [
        {
          "output_type": "execute_result",
          "data": {
            "text/plain": [
              "0.5082"
            ]
          },
          "metadata": {},
          "execution_count": 68
        }
      ]
    },
    {
      "cell_type": "code",
      "source": [
        "# Train the model for 20 epochs and print validation accuracy after each epoch\n",
        "\n",
        "for i in range(20):\n",
        "    train_epoch(linear1, lr, params)\n",
        "    print(validate_epoch(linear1), end=' ')"
      ],
      "metadata": {
        "colab": {
          "base_uri": "https://localhost:8080/"
        },
        "id": "51NAB113PwI0",
        "outputId": "8a188e88-4925-4c99-b83a-380a76da45af"
      },
      "execution_count": 69,
      "outputs": [
        {
          "output_type": "stream",
          "name": "stdout",
          "text": [
            "0.505 0.5006 0.7359 0.5892 0.4918 0.4942 0.495 0.491 0.4926 0.495 0.4922 0.4926 0.5986 0.7098 0.9789 0.6534 0.5797 0.9887 0.941 0.98 "
          ]
        }
      ]
    },
    {
      "cell_type": "code",
      "source": [
        "# Optimizer\n",
        "# Create a linear model using PyTorch's nn.Linear module\n",
        "# Get the weights and bias of the linear model\n",
        "\n",
        "linear_model = nn.Linear(28*28,1)\n",
        "\n",
        "w,b = linear_model.parameters()\n",
        "w.shape,b.shape"
      ],
      "metadata": {
        "colab": {
          "base_uri": "https://localhost:8080/"
        },
        "id": "NVwbNavUQHNH",
        "outputId": "e92a59b7-f810-4765-eb2f-15c20ec0b4e1"
      },
      "execution_count": 70,
      "outputs": [
        {
          "output_type": "execute_result",
          "data": {
            "text/plain": [
              "(torch.Size([1, 784]), torch.Size([1]))"
            ]
          },
          "metadata": {},
          "execution_count": 70
        }
      ]
    },
    {
      "cell_type": "code",
      "source": [
        "# Define a basic optimizer class\n",
        "# Initialize the optimizer with model parameters and learning rate\n",
        "# Perform a single optimization step (update parameters)\n",
        "# Reset gradients to zero\n",
        "\n",
        "class BasicOptim:\n",
        "    def __init__(self,params,lr): self.params,self.lr = list(params),lr\n",
        "\n",
        "    def step(self, *args, **kwargs):\n",
        "        for p in self.params: p.data -= p.grad.data * self.lr\n",
        "\n",
        "    def zero_grad(self, *args, **kwargs):\n",
        "        for p in self.params: p.grad = None"
      ],
      "metadata": {
        "id": "yeJ7PIC2QN-J"
      },
      "execution_count": 71,
      "outputs": []
    },
    {
      "cell_type": "code",
      "source": [
        "# Create an instance of the BasicOptim optimizer for the linear model\n",
        "\n",
        "opt = BasicOptim(linear_model.parameters(), lr)"
      ],
      "metadata": {
        "id": "gXBYz6ouQMUS"
      },
      "execution_count": 72,
      "outputs": []
    },
    {
      "cell_type": "code",
      "source": [
        "# Define a function to train the model for one epoch\n",
        "# Iterate over batches in the dataloader\n",
        "# Calculate gradients for the batch\n",
        "# Update model parameters using the optimizer\n",
        "\n",
        "def train_epoch(model):\n",
        "    for xb,yb in dl:\n",
        "        calc_grad(xb, yb, model)\n",
        "        opt.step()\n",
        "        opt.zero_grad()"
      ],
      "metadata": {
        "id": "YYnan9DhQR0a"
      },
      "execution_count": 73,
      "outputs": []
    },
    {
      "cell_type": "code",
      "source": [
        "#validate_epoch(linear_model)"
      ],
      "metadata": {
        "colab": {
          "base_uri": "https://localhost:8080/"
        },
        "id": "w6-EfiJHQR-K",
        "outputId": "a5c364b8-9be9-4377-f605-dae446c0aac0"
      },
      "execution_count": 74,
      "outputs": [
        {
          "output_type": "execute_result",
          "data": {
            "text/plain": [
              "0.4926"
            ]
          },
          "metadata": {},
          "execution_count": 74
        }
      ]
    },
    {
      "cell_type": "code",
      "source": [
        "# Define a function to train the model for a specified number of epochs\n",
        "# Iterate for the given number of epochs\n",
        "# Train the model for one epoch\n",
        "# Calculate and print validation accuracy\n",
        "\n",
        "\n",
        "def train_model(model, epochs):\n",
        "    for i in range(epochs):\n",
        "        train_epoch(model)\n",
        "        print(validate_epoch(model), end=' ')"
      ],
      "metadata": {
        "id": "Jhk5-YHbQVsv"
      },
      "execution_count": 75,
      "outputs": []
    },
    {
      "cell_type": "code",
      "source": [
        "# Train the linear_model for 20 epochs\n",
        "\n",
        "train_model(linear_model, 20)"
      ],
      "metadata": {
        "colab": {
          "base_uri": "https://localhost:8080/"
        },
        "id": "iEBZv1v6QWql",
        "outputId": "d09866df-2504-4e0a-c4f6-0a0d8d7ae73c"
      },
      "execution_count": 76,
      "outputs": [
        {
          "output_type": "stream",
          "name": "stdout",
          "text": [
            "0.4846 0.4902 0.4974 0.4926 0.495 0.4966 0.4838 0.4886 0.495 0.4846 0.4982 0.4886 0.4934 0.9331 0.9089 0.993 0.9933 0.9648 0.9902 0.9812 "
          ]
        }
      ]
    },
    {
      "cell_type": "code",
      "source": [
        "# Create a linear model using PyTorch\n",
        "# Create an SGD optimizer for the linear model\n",
        "# Train the linear model for 20 epochs\n",
        "\n",
        "linear_model = nn.Linear(28*28,1)\n",
        "opt = SGD(linear_model.parameters(), lr)\n",
        "train_model(linear_model, 20)"
      ],
      "metadata": {
        "colab": {
          "base_uri": "https://localhost:8080/"
        },
        "id": "UAFlI84RQWyj",
        "outputId": "d2497d78-bdc8-4a15-8e1d-3b4880a21fde"
      },
      "execution_count": 77,
      "outputs": [
        {
          "output_type": "stream",
          "name": "stdout",
          "text": [
            "0.4902 0.4878 0.4918 0.4926 0.491 0.4878 0.4862 0.4846 0.4894 0.4902 0.4902 0.894 0.9503 0.9906 0.9957 0.9957 0.9875 0.9096 0.9695 0.9961 "
          ]
        }
      ]
    },
    {
      "cell_type": "code",
      "source": [
        "# Create a DataLoaders object from the training and validation dataloaders\n",
        "\n",
        "dls = DataLoaders(dl, valid_dl)"
      ],
      "metadata": {
        "id": "ehRlwG-TQW6-"
      },
      "execution_count": 78,
      "outputs": []
    },
    {
      "cell_type": "code",
      "source": [
        "# Create a Learner object for training\n",
        "\n",
        "\n",
        "learn = Learner(dls, nn.Linear(28*28,1), opt_func=SGD,\n",
        "                loss_func=mnist_loss, metrics=batch_accuracy)"
      ],
      "metadata": {
        "id": "RqiVClvZQbRk"
      },
      "execution_count": 79,
      "outputs": []
    },
    {
      "cell_type": "code",
      "source": [
        "# Train the model for 15 epochs with a learning rate of 2\n",
        "\n",
        "learn.fit(15, lr=2)"
      ],
      "metadata": {
        "colab": {
          "base_uri": "https://localhost:8080/",
          "height": 520
        },
        "id": "X5P9f9y_QbZ3",
        "outputId": "884f762f-295e-4722-8d5c-9f3266b49bd1"
      },
      "execution_count": 81,
      "outputs": [
        {
          "output_type": "display_data",
          "data": {
            "text/plain": [
              "<IPython.core.display.HTML object>"
            ],
            "text/html": [
              "\n",
              "<style>\n",
              "    /* Turns off some styling */\n",
              "    progress {\n",
              "        /* gets rid of default border in Firefox and Opera. */\n",
              "        border: none;\n",
              "        /* Needs to be in here for Safari polyfill so background images work as expected. */\n",
              "        background-size: auto;\n",
              "    }\n",
              "    progress:not([value]), progress:not([value])::-webkit-progress-bar {\n",
              "        background: repeating-linear-gradient(45deg, #7e7e7e, #7e7e7e 10px, #5c5c5c 10px, #5c5c5c 20px);\n",
              "    }\n",
              "    .progress-bar-interrupted, .progress-bar-interrupted::-webkit-progress-bar {\n",
              "        background: #F44336;\n",
              "    }\n",
              "</style>\n"
            ]
          },
          "metadata": {}
        },
        {
          "output_type": "display_data",
          "data": {
            "text/plain": [
              "<IPython.core.display.HTML object>"
            ],
            "text/html": [
              "<table border=\"1\" class=\"dataframe\">\n",
              "  <thead>\n",
              "    <tr style=\"text-align: left;\">\n",
              "      <th>epoch</th>\n",
              "      <th>train_loss</th>\n",
              "      <th>valid_loss</th>\n",
              "      <th>batch_accuracy</th>\n",
              "      <th>time</th>\n",
              "    </tr>\n",
              "  </thead>\n",
              "  <tbody>\n",
              "    <tr>\n",
              "      <td>0</td>\n",
              "      <td>0.484830</td>\n",
              "      <td>0.485046</td>\n",
              "      <td>0.492044</td>\n",
              "      <td>00:00</td>\n",
              "    </tr>\n",
              "    <tr>\n",
              "      <td>1</td>\n",
              "      <td>0.483598</td>\n",
              "      <td>0.482920</td>\n",
              "      <td>0.492044</td>\n",
              "      <td>00:00</td>\n",
              "    </tr>\n",
              "    <tr>\n",
              "      <td>2</td>\n",
              "      <td>0.482061</td>\n",
              "      <td>0.481104</td>\n",
              "      <td>0.492044</td>\n",
              "      <td>00:00</td>\n",
              "    </tr>\n",
              "    <tr>\n",
              "      <td>3</td>\n",
              "      <td>0.480445</td>\n",
              "      <td>0.479154</td>\n",
              "      <td>0.492044</td>\n",
              "      <td>00:00</td>\n",
              "    </tr>\n",
              "    <tr>\n",
              "      <td>4</td>\n",
              "      <td>0.478667</td>\n",
              "      <td>0.477244</td>\n",
              "      <td>0.525963</td>\n",
              "      <td>00:00</td>\n",
              "    </tr>\n",
              "    <tr>\n",
              "      <td>5</td>\n",
              "      <td>0.476829</td>\n",
              "      <td>0.475345</td>\n",
              "      <td>0.754606</td>\n",
              "      <td>00:00</td>\n",
              "    </tr>\n",
              "    <tr>\n",
              "      <td>6</td>\n",
              "      <td>0.474945</td>\n",
              "      <td>0.473183</td>\n",
              "      <td>0.995394</td>\n",
              "      <td>00:00</td>\n",
              "    </tr>\n",
              "    <tr>\n",
              "      <td>7</td>\n",
              "      <td>0.473154</td>\n",
              "      <td>0.471265</td>\n",
              "      <td>0.993719</td>\n",
              "      <td>00:00</td>\n",
              "    </tr>\n",
              "    <tr>\n",
              "      <td>8</td>\n",
              "      <td>0.471235</td>\n",
              "      <td>0.469559</td>\n",
              "      <td>0.994556</td>\n",
              "      <td>00:00</td>\n",
              "    </tr>\n",
              "    <tr>\n",
              "      <td>9</td>\n",
              "      <td>0.469283</td>\n",
              "      <td>0.467688</td>\n",
              "      <td>0.995812</td>\n",
              "      <td>00:00</td>\n",
              "    </tr>\n",
              "    <tr>\n",
              "      <td>10</td>\n",
              "      <td>0.467478</td>\n",
              "      <td>0.465580</td>\n",
              "      <td>0.975712</td>\n",
              "      <td>00:00</td>\n",
              "    </tr>\n",
              "    <tr>\n",
              "      <td>11</td>\n",
              "      <td>0.465531</td>\n",
              "      <td>0.463687</td>\n",
              "      <td>0.967755</td>\n",
              "      <td>00:00</td>\n",
              "    </tr>\n",
              "    <tr>\n",
              "      <td>12</td>\n",
              "      <td>0.463652</td>\n",
              "      <td>0.461944</td>\n",
              "      <td>0.987018</td>\n",
              "      <td>00:00</td>\n",
              "    </tr>\n",
              "    <tr>\n",
              "      <td>13</td>\n",
              "      <td>0.461691</td>\n",
              "      <td>0.460331</td>\n",
              "      <td>0.995394</td>\n",
              "      <td>00:00</td>\n",
              "    </tr>\n",
              "    <tr>\n",
              "      <td>14</td>\n",
              "      <td>0.459792</td>\n",
              "      <td>0.458193</td>\n",
              "      <td>0.978224</td>\n",
              "      <td>00:00</td>\n",
              "    </tr>\n",
              "  </tbody>\n",
              "</table>"
            ]
          },
          "metadata": {}
        }
      ]
    }
  ]
}