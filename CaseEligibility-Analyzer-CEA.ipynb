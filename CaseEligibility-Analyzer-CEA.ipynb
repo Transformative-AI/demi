{
 "cells": [
  {
   "cell_type": "code",
   "execution_count": 6,
   "metadata": {},
   "outputs": [
    {
     "data": {
      "text/plain": [
       "'\\nCaseEligibility Analyzer (CEA): Two-Stage Legal Case Assessment Model\\n===============================\\n\\nPurpose:\\n--------\\nA machine learning-based intake assessment tool designed to assist law firms in \\nevaluating potential cases. The model employs a two-stage prediction approach:\\n1. Stage 1: Predicts case eligibility (likelihood of valid claim)\\n2. Stage 2: Estimates potential claim value for eligible cases\\n\\nVersion: 1.0\\nLast Updated: December 1, 2024\\n'"
      ]
     },
     "execution_count": 6,
     "metadata": {},
     "output_type": "execute_result"
    }
   ],
   "source": [
    "\n",
    "\"\"\"\n",
    "CaseEligibility Analyzer (CEA): Two-Stage Legal Case Assessment Model\n",
    "===============================\n",
    "\n",
    "Purpose:\n",
    "--------\n",
    "A machine learning-based intake assessment tool designed to assist law firms in \n",
    "evaluating potential cases. The model employs a two-stage prediction approach:\n",
    "1. Stage 1: Predicts case eligibility (likelihood of valid claim)\n",
    "2. Stage 2: Estimates potential claim value for eligible cases\n",
    "\n",
    "Version: 1.0\n",
    "Last Updated: December 1, 2024\n",
    "\"\"\""
   ]
  },
  {
   "cell_type": "code",
   "execution_count": 7,
   "metadata": {},
   "outputs": [],
   "source": [
    "# # Kaggle API Authentication Setup\n",
    "import os\n",
    "os.envir on['KAGGLE_USERNAME'] = \"demiminjarez\"\n",
    "os.environ['KAGGLE_KEY'] = \"71118f339b2ffe1143d9fec6ed72ebf7\""
   ]
  },
  {
   "cell_type": "code",
   "execution_count": 8,
   "metadata": {},
   "outputs": [],
   "source": [
    "# # Install python-dotenv\n",
    "# !pip install python-dotenv\n",
    "# # Kaggle API Authentication Setup\n",
    "# from dotenv import load_dotenv\n",
    "# import os\n",
    "\n",
    "# # Load credentials from .env file\n",
    "# load_dotenv()\n",
    "\n",
    "# # Securely access credentials\n",
    "# try:\n",
    "#     kaggle_username = os.getenv('KAGGLE_USERNAME')\n",
    "#     kaggle_key = os.getenv('KAGGLE_KEY')\n",
    "    \n",
    "#     if not all([kaggle_username, kaggle_key]):\n",
    "#         raise ValueError(\"Missing required Kaggle credentials in environment variables\")\n",
    "        \n",
    "#     os.environ['KAGGLE_USERNAME'] = kaggle_username\n",
    "#     os.environ['KAGGLE_KEY'] = kaggle_key\n",
    "    \n",
    "# except Exception as e:\n",
    "#     print(f\"Error loading Kaggle credentials: {e}\")"
   ]
  },
  {
   "cell_type": "code",
   "execution_count": 9,
   "metadata": {},
   "outputs": [],
   "source": [
    "# Import libraries\n",
    "import pandas as pd\n",
    "import matplotlib.pyplot as plt\n",
    "import seaborn as sns\n",
    "import numpy as np\n",
    "from scipy import stats"
   ]
  },
  {
   "cell_type": "code",
   "execution_count": 10,
   "metadata": {},
   "outputs": [],
   "source": [
    "# FastAI Libraries\n",
    "from fastai.tabular.all import *\n",
    "import torch\n",
    "import torch.nn as nn\n",
    "from sklearn.preprocessing import LabelEncoder\n",
    "from sklearn.model_selection import train_test_split\n",
    "\n",
    "from fastai.metrics import F1Score, accuracy"
   ]
  },
  {
   "cell_type": "code",
   "execution_count": 11,
   "metadata": {},
   "outputs": [
    {
     "data": {
      "text/plain": [
       "'\\nData Collection\\n==============\\n- Source: Kaggle Insurance Claims Dataset\\n'"
      ]
     },
     "execution_count": 11,
     "metadata": {},
     "output_type": "execute_result"
    }
   ],
   "source": [
    "\"\"\"\n",
    "Data Collection\n",
    "==============\n",
    "- Source: Kaggle Insurance Claims Dataset\n",
    "\"\"\""
   ]
  },
  {
   "cell_type": "code",
   "execution_count": 12,
   "metadata": {},
   "outputs": [
    {
     "name": "stdout",
     "output_type": "stream",
     "text": [
      "Dataset URL: https://www.kaggle.com/datasets/saisatish09/insuranceclaimsdata\n",
      "License(s): unknown\n",
      "insuranceclaimsdata.zip: Skipping, found more recently modified local copy (use --force to force download)\n",
      "Archive:  insuranceclaimsdata.zip\n",
      "  inflating: insuranceclaimsdata/AutoBi.csv  \n",
      "  inflating: insuranceclaimsdata/AutoClaims.csv  \n",
      "  inflating: insuranceclaimsdata/AutoCollision.csv  \n",
      "  inflating: insuranceclaimsdata/ClaimsLong.csv  \n",
      "  inflating: insuranceclaimsdata/IndustryAuto.csv  \n",
      "  inflating: insuranceclaimsdata/SingaporeAuto.csv  \n",
      "  inflating: insuranceclaimsdata/Thirdparty.csv  \n",
      "  inflating: insuranceclaimsdata/WorkersComp.csv  \n",
      "  inflating: insuranceclaimsdata/dataCar.csv  \n",
      "  inflating: insuranceclaimsdata/dataOhlsson.csv  \n"
     ]
    }
   ],
   "source": [
    "# Download Kaggle Dataset\n",
    "!kaggle datasets download -d saisatish09/insuranceclaimsdata\n",
    "\n",
    "# Unzip the downloaded file\n",
    "!unzip -o insuranceclaimsdata.zip -d insuranceclaimsdata\n",
    "def load_csv(filename):\n",
    "    current_dir = os.getcwd()\n",
    "    csv_path = os.path.join(current_dir, 'insuranceclaimsdata', filename)\n",
    "    return pd.read_csv(csv_path)\n",
    "\n",
    "# Load the data\n",
    "df_auto = load_csv('dataCar.csv')"
   ]
  },
  {
   "cell_type": "code",
   "execution_count": 13,
   "metadata": {},
   "outputs": [],
   "source": [
    "# Create a copy before any modifications\n",
    "df_auto_processed = df_auto.copy()"
   ]
  },
  {
   "cell_type": "code",
   "execution_count": 14,
   "metadata": {},
   "outputs": [
    {
     "data": {
      "text/plain": [
       "Index        0\n",
       "veh_value    0\n",
       "exposure     0\n",
       "clm          0\n",
       "numclaims    0\n",
       "claimcst0    0\n",
       "veh_body     0\n",
       "veh_age      0\n",
       "gender       0\n",
       "area         0\n",
       "agecat       0\n",
       "X_OBSTAT_    0\n",
       "dtype: int64"
      ]
     },
     "execution_count": 14,
     "metadata": {},
     "output_type": "execute_result"
    }
   ],
   "source": [
    "# Check for missing values\n",
    "missing_values = df_auto_processed.isnull().sum()\n",
    "missing_values"
   ]
  },
  {
   "cell_type": "code",
   "execution_count": 15,
   "metadata": {},
   "outputs": [
    {
     "name": "stdout",
     "output_type": "stream",
     "text": [
      "<class 'pandas.core.frame.DataFrame'>\n",
      "RangeIndex: 67856 entries, 0 to 67855\n",
      "Data columns (total 12 columns):\n",
      " #   Column     Non-Null Count  Dtype  \n",
      "---  ------     --------------  -----  \n",
      " 0   Index      67856 non-null  int64  \n",
      " 1   veh_value  67856 non-null  float64\n",
      " 2   exposure   67856 non-null  float64\n",
      " 3   clm        67856 non-null  int64  \n",
      " 4   numclaims  67856 non-null  int64  \n",
      " 5   claimcst0  67856 non-null  float64\n",
      " 6   veh_body   67856 non-null  object \n",
      " 7   veh_age    67856 non-null  int64  \n",
      " 8   gender     67856 non-null  object \n",
      " 9   area       67856 non-null  object \n",
      " 10  agecat     67856 non-null  int64  \n",
      " 11  X_OBSTAT_  67856 non-null  object \n",
      "dtypes: float64(3), int64(5), object(4)\n",
      "memory usage: 6.2+ MB\n"
     ]
    }
   ],
   "source": [
    "df_auto_processed.info()"
   ]
  },
  {
   "cell_type": "code",
   "execution_count": 16,
   "metadata": {},
   "outputs": [
    {
     "name": "stdout",
     "output_type": "stream",
     "text": [
      "['01101    0    0    0']\n"
     ]
    }
   ],
   "source": [
    "# Check unique values in 'X_OBSTAT_' column\n",
    "print(df_auto_processed['X_OBSTAT_'].unique())"
   ]
  },
  {
   "cell_type": "code",
   "execution_count": 17,
   "metadata": {},
   "outputs": [
    {
     "name": "stdout",
     "output_type": "stream",
     "text": [
      "Column 'X_OBSTAT_' dropped successfully.\n"
     ]
    }
   ],
   "source": [
    "# Remove 'X_OBSTAT_' column from dataset\n",
    "# Rationale:\n",
    "# Column contains administrative status codes not relevant to claim prediction\n",
    "if 'X_OBSTAT_' in df_auto_processed.columns:\n",
    "  df_auto_processed = df_auto_processed.drop('X_OBSTAT_', axis=1)\n",
    "  print(\"Column 'X_OBSTAT_' dropped successfully.\")\n",
    "else:\n",
    "  print(\"Column 'X_OBSTAT_' not found in the DataFrame.\")"
   ]
  },
  {
   "cell_type": "code",
   "execution_count": 18,
   "metadata": {},
   "outputs": [
    {
     "name": "stdout",
     "output_type": "stream",
     "text": [
      "Claim cost statistics:\n",
      "count    67856.000000\n",
      "mean       137.270167\n",
      "std       1056.297768\n",
      "min          0.000000\n",
      "25%          0.000000\n",
      "50%          0.000000\n",
      "75%          0.000000\n",
      "max      55922.129880\n",
      "Name: claimcst0, dtype: float64\n"
     ]
    }
   ],
   "source": [
    "# Analyze the claim costs distribution\n",
    "print(\"Claim cost statistics:\")\n",
    "print(df_auto_processed['claimcst0'].describe())"
   ]
  },
  {
   "cell_type": "code",
   "execution_count": 19,
   "metadata": {},
   "outputs": [
    {
     "data": {
      "image/png": "[encoded data removed]",
      "text/plain": [
       "<Figure size 1000x600 with 1 Axes>"
      ]
     },
     "metadata": {},
     "output_type": "display_data"
    }
   ],
   "source": [
    "# Scatter plot of claim loss vs claimant age category\n",
    "plt.figure(figsize=(10, 6))\n",
    "sns.scatterplot(x='agecat', y='claimcst0', data=df_auto_processed)\n",
    "plt.title('Claim Loss vs Claimant Age Category')\n",
    "plt.xlabel('Claimant Age Category')\n",
    "plt.ylabel('Loss')\n",
    "plt.show()"
   ]
  },
  {
   "cell_type": "code",
   "execution_count": 20,
   "metadata": {},
   "outputs": [
    {
     "name": "stderr",
     "output_type": "stream",
     "text": [
      "/var/folders/g5/m1slb69s58l1xjf8nbrnywf00000gn/T/ipykernel_80367/236851761.py:13: UserWarning: No artists with labels found to put in legend.  Note that artists whose label start with an underscore are ignored when legend() is called with no argument.\n",
      "  plt.legend()\n"
     ]
    },
    {
     "data": {
      "text/plain": [
       "<Figure size 1000x600 with 0 Axes>"
      ]
     },
     "metadata": {},
     "output_type": "display_data"
    },
    {
     "data": {
      "image/png": "[encoded data removed]",
      "text/plain": [
       "<Figure size 1000x600 with 1 Axes>"
      ]
     },
     "metadata": {},
     "output_type": "display_data"
    }
   ],
   "source": [
    "# Analyze the relationship between insurance claim amount and loss\n",
    "plt.figure(figsize=(10, 6))\n",
    "\n",
    "# Box plot of LOSS by Insured status\n",
    "plt.figure(figsize=(10, 6))\n",
    "sns.boxplot(x='numclaims', y='claimcst0', data=df_auto_processed)\n",
    "plt.title('Claim Num vs Cost')\n",
    "\n",
    "plt.xlabel('numclaims')\n",
    "plt.ylabel('claimcst0')\n",
    "\n",
    "# Add a legend\n",
    "plt.legend()\n",
    "plt.show()"
   ]
  },
  {
   "cell_type": "code",
   "execution_count": 21,
   "metadata": {},
   "outputs": [
    {
     "data": {
      "image/png": "[encoded data removed]",
      "text/plain": [
       "<Figure size 1200x600 with 1 Axes>"
      ]
     },
     "metadata": {},
     "output_type": "display_data"
    }
   ],
   "source": [
    "# Distribution of Exposure \n",
    "plt.figure(figsize=(12, 6))\n",
    "sns.histplot(data=df_auto_processed, x='exposure', bins=20, color='blue', alpha=0.5)\n",
    "sns.kdeplot(data=df_auto_processed, x='exposure', color='darkblue', linewidth=2)\n",
    "\n",
    "# Set title and labels\n",
    "plt.title('Distribution of Exposure', fontsize=12)\n",
    "plt.xlabel('Exposure')\n",
    "plt.ylabel('Frequency')\n",
    "plt.grid(True, linestyle='--', alpha=0.7)\n",
    "\n",
    "# Add some style\n",
    "#plt.style.use('seaborn')\n",
    "plt.tight_layout()\n",
    "plt.show()"
   ]
  },
  {
   "cell_type": "code",
   "execution_count": 22,
   "metadata": {},
   "outputs": [
    {
     "data": {
      "image/png": "[encoded data removed]",
      "text/plain": [
       "<Figure size 1200x600 with 1 Axes>"
      ]
     },
     "metadata": {},
     "output_type": "display_data"
    },
    {
     "name": "stdout",
     "output_type": "stream",
     "text": [
      "\n",
      "Vehicle Age Statistics:\n",
      "count    67856.000000\n",
      "mean         2.673529\n",
      "std          1.067542\n",
      "min          1.000000\n",
      "25%          2.000000\n",
      "50%          3.000000\n",
      "75%          4.000000\n",
      "max          4.000000\n",
      "Name: veh_age, dtype: float64\n"
     ]
    }
   ],
   "source": [
    "# Distribution of Vehicle Age\n",
    "plt.figure(figsize=(12, 6))\n",
    "\n",
    "# Create histogram and KDE plot\n",
    "sns.histplot(data=df_auto_processed, x='veh_age', bins=20, color='#90EE90', alpha=0.6)  # Light green color\n",
    "sns.kdeplot(data=df_auto_processed, x='veh_age', color='darkgreen', linewidth=2)\n",
    "\n",
    "# Customize the plot\n",
    "plt.title('Distribution of Vehicle Age', fontsize=12)\n",
    "plt.xlabel('Vehicle Age')\n",
    "plt.ylabel('Frequency')\n",
    "plt.grid(True, linestyle=':', alpha=0.3)\n",
    "\n",
    "# Style adjustments\n",
    "#plt.style.use('seaborn')\n",
    "plt.tight_layout()\n",
    "plt.show()\n",
    "\n",
    "# Optional: Print basic statistics\n",
    "print(\"\\nVehicle Age Statistics:\")\n",
    "print(df_auto_processed['veh_age'].describe())"
   ]
  },
  {
   "cell_type": "code",
   "execution_count": 23,
   "metadata": {},
   "outputs": [
    {
     "name": "stdout",
     "output_type": "stream",
     "text": [
      "\n",
      "Vehicle Value Statistics:\n",
      "count    67856.000000\n",
      "mean         1.777021\n",
      "std          1.205232\n",
      "min          0.000000\n",
      "25%          1.010000\n",
      "50%          1.500000\n",
      "75%          2.150000\n",
      "max         34.560000\n",
      "Name: veh_value, dtype: float64\n"
     ]
    }
   ],
   "source": [
    "# Optional: Print basic statistics\n",
    "print(\"\\nVehicle Value Statistics:\")\n",
    "print(df_auto_processed['veh_value'].describe())"
   ]
  },
  {
   "cell_type": "code",
   "execution_count": 24,
   "metadata": {},
   "outputs": [
    {
     "data": {
      "image/png": "[encoded data removed]",
      "text/plain": [
       "<Figure size 1500x600 with 1 Axes>"
      ]
     },
     "metadata": {},
     "output_type": "display_data"
    }
   ],
   "source": [
    "# Calculate average claim cost by body type\n",
    "avg_claim_by_body = df_auto_processed.groupby('veh_body')['claimcst0'].mean().sort_values(ascending=False)\n",
    "\n",
    "# Create monochromatic color palette (purple shades) and reverse it\n",
    "colors = sns.color_palette(\"Purples_r\", n_colors=len(avg_claim_by_body))  # Added _r to reverse\n",
    "\n",
    "# Create the plot\n",
    "plt.figure(figsize=(15, 6))\n",
    "bars = plt.bar(range(len(avg_claim_by_body)), avg_claim_by_body.values, color=colors)\n",
    "\n",
    "# Customize the plot\n",
    "plt.title('Average Claim Cost by Body Type', fontsize=12, pad=15)\n",
    "plt.xlabel('Vehicle Body Type')\n",
    "plt.ylabel('Average Claim Cost')\n",
    "\n",
    "# Set x-axis labels\n",
    "plt.xticks(range(len(avg_claim_by_body)), \n",
    "          avg_claim_by_body.index,\n",
    "          rotation=0)\n",
    "\n",
    "# Add grid\n",
    "plt.grid(axis='y', linestyle=':', alpha=0.3)\n",
    "\n",
    "# Remove top and right spines\n",
    "plt.gca().spines['top'].set_visible(False)\n",
    "plt.gca().spines['right'].set_visible(False)\n",
    "\n",
    "# Adjust layout\n",
    "plt.tight_layout()\n",
    "\n",
    "# Show the plot\n",
    "plt.show()"
   ]
  },
  {
   "cell_type": "code",
   "execution_count": 25,
   "metadata": {},
   "outputs": [
    {
     "data": {
      "image/png": "[encoded data removed]",
      "text/plain": [
       "<Figure size 1200x600 with 1 Axes>"
      ]
     },
     "metadata": {},
     "output_type": "display_data"
    }
   ],
   "source": [
    "# Create mapping for area types\n",
    "area_mapping = {\n",
    "    0: 'Urban',\n",
    "    1: 'Suburban',\n",
    "    2: 'City',\n",
    "    3: 'Regional',\n",
    "    4: 'Remote',\n",
    "    5: 'Very Remote'\n",
    "}\n",
    "\n",
    "# Create the plot\n",
    "plt.figure(figsize=(12, 6))\n",
    "area_counts = df_auto_processed['area'].value_counts().sort_index()\n",
    "\n",
    "# Create bar plot\n",
    "plt.bar(range(len(area_counts)), area_counts.values)\n",
    "\n",
    "# Customize plot\n",
    "plt.title('Distribution of Vehicles by Area Type')\n",
    "plt.xlabel('Area Type')\n",
    "plt.ylabel('Number of Vehicles')\n",
    "plt.xticks(range(len(area_counts)), [area_mapping[x] for x in range(6)], rotation=45)\n",
    "plt.tight_layout()\n",
    "plt.show()\n",
    "\n",
    "# Print percentages\n",
    "# total = area_counts.sum()\n",
    "# print(\"\\nPercentage distribution:\")\n",
    "# for area_code, count in area_counts.items():\n",
    "#     area_name = area_mapping[area_code]\n",
    "#     percentage = (count/total * 100).round(2)\n",
    "#     print(f\"{area_name}: {percentage}% ({count} vehicles)\")"
   ]
  },
  {
   "cell_type": "code",
   "execution_count": 26,
   "metadata": {},
   "outputs": [
    {
     "data": {
      "image/png": "[encoded data removed]",
      "text/plain": [
       "<Figure size 1000x600 with 1 Axes>"
      ]
     },
     "metadata": {},
     "output_type": "display_data"
    }
   ],
   "source": [
    "# Histogram of claims number\n",
    "plt.figure(figsize=(10, 6))\n",
    "plt.hist(df_auto_processed['numclaims'], bins=4, edgecolor='black')\n",
    "plt.xlabel('Number of Claims')\n",
    "plt.ylabel('Frequency')\n",
    "plt.title('Histogram of Claims Number')\n",
    "plt.show()"
   ]
  },
  {
   "cell_type": "code",
   "execution_count": 27,
   "metadata": {},
   "outputs": [
    {
     "name": "stderr",
     "output_type": "stream",
     "text": [
      "/var/folders/g5/m1slb69s58l1xjf8nbrnywf00000gn/T/ipykernel_80367/1285927420.py:6: FutureWarning: \n",
      "\n",
      "Passing `palette` without assigning `hue` is deprecated and will be removed in v0.14.0. Assign the `x` variable to `hue` and set `legend=False` for the same effect.\n",
      "\n",
      "  sns.barplot(x=clm_counts.index, y=clm_counts.values, palette='viridis')\n"
     ]
    },
    {
     "data": {
      "image/png": "[encoded data removed]",
      "text/plain": [
       "<Figure size 800x600 with 1 Axes>"
      ]
     },
     "metadata": {},
     "output_type": "display_data"
    }
   ],
   "source": [
    "# Count the occurrences of each class in 'clm'\n",
    "clm_counts = df_auto_processed['clm'].value_counts()\n",
    "\n",
    "# Create a bar plot\n",
    "plt.figure(figsize=(8, 6))\n",
    "sns.barplot(x=clm_counts.index, y=clm_counts.values, palette='viridis')\n",
    "\n",
    "# Customize the plot\n",
    "plt.title('Class Distribution in clm', fontsize=14)\n",
    "plt.xlabel('Claim Status', fontsize=12)\n",
    "plt.ylabel('Number of Records', fontsize=12)\n",
    "plt.xticks([0, 1], ['No Claim', 'Claim'])\n",
    "plt.grid(axis='y', linestyle='--', alpha=0.7)\n",
    "\n",
    "# Show the plot\n",
    "plt.tight_layout()\n",
    "plt.show()"
   ]
  },
  {
   "cell_type": "code",
   "execution_count": 28,
   "metadata": {},
   "outputs": [
    {
     "name": "stdout",
     "output_type": "stream",
     "text": [
      "Vehicle Age Statistics:\n",
      "count    67856.000000\n",
      "mean         2.673529\n",
      "std          1.067542\n",
      "min          1.000000\n",
      "25%          2.000000\n",
      "50%          3.000000\n",
      "75%          4.000000\n",
      "max          4.000000\n",
      "Name: veh_age, dtype: float64\n",
      "\n",
      "Oldest vehicle age: 4\n",
      "\n",
      "Number of vehicles by age:\n",
      "veh_age\n",
      "1    12257\n",
      "2    16587\n",
      "3    20064\n",
      "4    18948\n",
      "Name: count, dtype: int64\n"
     ]
    },
    {
     "data": {
      "image/png": "[encoded data removed]",
      "text/plain": [
       "<Figure size 1200x600 with 1 Axes>"
      ]
     },
     "metadata": {},
     "output_type": "display_data"
    },
    {
     "name": "stdout",
     "output_type": "stream",
     "text": [
      "\n",
      "Top 10 oldest vehicle ages and their counts:\n",
      "veh_age\n",
      "4    18948\n",
      "3    20064\n",
      "2    16587\n",
      "1    12257\n",
      "Name: count, dtype: int64\n"
     ]
    }
   ],
   "source": [
    "# Basic statistics of vehicle age\n",
    "print(\"Vehicle Age Statistics:\")\n",
    "print(df_auto_processed['veh_age'].describe())\n",
    "\n",
    "# Get the maximum age\n",
    "max_age = df_auto_processed['veh_age'].max()\n",
    "print(f\"\\nOldest vehicle age: {max_age}\")\n",
    "\n",
    "# Count of vehicles by age\n",
    "age_counts = df_auto_processed['veh_age'].value_counts().sort_index()\n",
    "print(\"\\nNumber of vehicles by age:\")\n",
    "print(age_counts)\n",
    "\n",
    "# Create a histogram to visualize the distribution\n",
    "plt.figure(figsize=(12, 6))\n",
    "sns.histplot(data=df_auto_processed, x='veh_age', bins=30)\n",
    "plt.title('Distribution of Vehicle Ages')\n",
    "plt.xlabel('Vehicle Age (years)')\n",
    "plt.ylabel('Number of Vehicles')\n",
    "plt.grid(True, alpha=0.3)\n",
    "plt.show()\n",
    "\n",
    "# \n",
    "print(\"\\nTop 10 oldest vehicle ages and their counts:\")\n",
    "print(age_counts.tail(10).sort_index(ascending=False))"
   ]
  },
  {
   "cell_type": "code",
   "execution_count": 29,
   "metadata": {},
   "outputs": [],
   "source": [
    "# need to check the correlation between the features and the target variable\n",
    "# correlation_matrix = df_auto_processed.corr()"
   ]
  },
  {
   "cell_type": "code",
   "execution_count": 30,
   "metadata": {},
   "outputs": [
    {
     "data": {
      "text/plain": [
       "'\\nData Preprocessing Steps\\n=======================\\n1. Data cleaning\\n   - Add \"has_claim\" column to the dataframe\\n   - Removing columns related to the target variable (clm, claimcs0, Index, numclaims)\\n   - No missing values\\n'"
      ]
     },
     "execution_count": 30,
     "metadata": {},
     "output_type": "execute_result"
    }
   ],
   "source": [
    "# Data Preprocessing\n",
    "\"\"\"\n",
    "Data Preprocessing Steps\n",
    "=======================\n",
    "1. Data cleaning\n",
    "   - Add \"has_claim\" column to the dataframe\n",
    "   - Removing columns related to the target variable (clm, claimcs0, Index, numclaims)\n",
    "   - No missing values\n",
    "\"\"\""
   ]
  },
  {
   "cell_type": "code",
   "execution_count": 31,
   "metadata": {},
   "outputs": [
    {
     "name": "stdout",
     "output_type": "stream",
     "text": [
      "clm\n",
      "0    63232\n",
      "1     4624\n",
      "Name: count, dtype: int64\n",
      "count    67856.000000\n",
      "mean         0.068144\n",
      "std          0.251995\n",
      "min          0.000000\n",
      "25%          0.000000\n",
      "50%          0.000000\n",
      "75%          0.000000\n",
      "max          1.000000\n",
      "Name: clm, dtype: float64\n"
     ]
    }
   ],
   "source": [
    " # Check unique values and their counts\n",
    "print(df_auto_processed['clm'].value_counts())\n",
    "   \n",
    "   # Display basic statistics\n",
    "print(df_auto_processed['clm'].describe())"
   ]
  },
  {
   "cell_type": "code",
   "execution_count": 32,
   "metadata": {},
   "outputs": [],
   "source": [
    "# Create binary target for claim eligibility (Stage 1)\n",
    "df_auto_processed['has_claim'] = (df_auto_processed['clm'] > 0).astype(int)"
   ]
  },
  {
   "cell_type": "code",
   "execution_count": 33,
   "metadata": {},
   "outputs": [],
   "source": [
    "# Define features and target\n",
    "y_clm = df_auto_processed['has_claim']\n",
    "X = df_auto_processed.drop(['clm', 'claimcst0', 'Index', 'numclaims'], axis=1)\n",
    "\n"
   ]
  },
  {
   "cell_type": "code",
   "execution_count": 34,
   "metadata": {},
   "outputs": [
    {
     "name": "stdout",
     "output_type": "stream",
     "text": [
      "Class distribution before resampling:\n",
      "has_claim\n",
      "0    0.931856\n",
      "1    0.068144\n",
      "Name: proportion, dtype: float64\n"
     ]
    }
   ],
   "source": [
    "# Add this after creating has_claim\n",
    "print(\"Class distribution before resampling:\")\n",
    "print(df_auto_processed['has_claim'].value_counts(normalize=True))\n"
   ]
  },
  {
   "cell_type": "code",
   "execution_count": 35,
   "metadata": {},
   "outputs": [
    {
     "data": {
      "text/plain": [
       "'\\nRandomUnderSampler Start\\n===============================\\nApplying RandomUnderSampler to the majority class to balance the dataset\\n'"
      ]
     },
     "execution_count": 35,
     "metadata": {},
     "output_type": "execute_result"
    }
   ],
   "source": [
    "\n",
    "\"\"\"\n",
    "RandomUnderSampler Start\n",
    "===============================\n",
    "Applying RandomUnderSampler to the majority class to balance the dataset\n",
    "\"\"\""
   ]
  },
  {
   "cell_type": "code",
   "execution_count": 36,
   "metadata": {},
   "outputs": [
    {
     "name": "stdout",
     "output_type": "stream",
     "text": [
      "Requirement already satisfied: imbalanced-learn in /Library/Frameworks/Python.framework/Versions/3.12/lib/python3.12/site-packages (0.12.4)\n",
      "Requirement already satisfied: numpy>=1.17.3 in /Library/Frameworks/Python.framework/Versions/3.12/lib/python3.12/site-packages (from imbalanced-learn) (2.0.2)\n",
      "Requirement already satisfied: scipy>=1.5.0 in /Library/Frameworks/Python.framework/Versions/3.12/lib/python3.12/site-packages (from imbalanced-learn) (1.14.1)\n",
      "Requirement already satisfied: scikit-learn>=1.0.2 in /Library/Frameworks/Python.framework/Versions/3.12/lib/python3.12/site-packages (from imbalanced-learn) (1.5.2)\n",
      "Requirement already satisfied: joblib>=1.1.1 in /Library/Frameworks/Python.framework/Versions/3.12/lib/python3.12/site-packages (from imbalanced-learn) (1.4.2)\n",
      "Requirement already satisfied: threadpoolctl>=2.0.0 in /Library/Frameworks/Python.framework/Versions/3.12/lib/python3.12/site-packages (from imbalanced-learn) (3.5.0)\n"
     ]
    }
   ],
   "source": [
    "# pip install imbalanced-learn\n",
    "!pip install imbalanced-learn\n",
    "#from imblearn.over_sampling import SMOTE\n",
    "from fastai.metrics import F1Score\n",
    "from imblearn.under_sampling import RandomUnderSampler"
   ]
  },
  {
   "cell_type": "code",
   "execution_count": 37,
   "metadata": {},
   "outputs": [],
   "source": [
    "# This function is used to resample the data to balance the dataset\n",
    "def perform_undersampling(x, y, random_state=42):\n",
    "    # Initialize the undersampler\n",
    "    rus = RandomUnderSampler(random_state=random_state)\n",
    "\n",
    "    # Apply undersampling\n",
    "    X_resampled, y_resampled = rus.fit_resample(x, y)\n",
    "\n",
    "    # Verify data\n",
    "    print(\"\\nResampled shape:\", X_resampled.shape)\n",
    "    #print(\"\\nFeature types:\")\n",
    "    #print(X_resampled.dtypes)\n",
    "\n",
    "    df_resampled = pd.DataFrame(X_resampled, columns=X.columns)\n",
    "    df_resampled['has_claim'] = y_resampled\n",
    "\n",
    "    return df_resampled"
   ]
  },
  {
   "cell_type": "code",
   "execution_count": 38,
   "metadata": {},
   "outputs": [
    {
     "data": {
      "text/plain": [
       "'\\nRandomUnderSampler END\\n===============================\\nApplying RandomUnderSampler to the majority class to balance the dataset\\n'"
      ]
     },
     "execution_count": 38,
     "metadata": {},
     "output_type": "execute_result"
    }
   ],
   "source": [
    "\n",
    "\"\"\"\n",
    "RandomUnderSampler END\n",
    "===============================\n",
    "Applying RandomUnderSampler to the majority class to balance the dataset\n",
    "\"\"\""
   ]
  },
  {
   "cell_type": "code",
   "execution_count": 39,
   "metadata": {},
   "outputs": [
    {
     "data": {
      "text/plain": [
       "'\\nHandle and remove outliers\\n===============================\\n\\n'"
      ]
     },
     "execution_count": 39,
     "metadata": {},
     "output_type": "execute_result"
    }
   ],
   "source": [
    "\n",
    "\"\"\"\n",
    "Handle and remove outliers\n",
    "===============================\n",
    "\n",
    "\"\"\""
   ]
  },
  {
   "cell_type": "code",
   "execution_count": 40,
   "metadata": {},
   "outputs": [
    {
     "name": "stdout",
     "output_type": "stream",
     "text": [
      "Requirement already satisfied: scipy in /Library/Frameworks/Python.framework/Versions/3.12/lib/python3.12/site-packages (1.14.1)\n",
      "Requirement already satisfied: numpy<2.3,>=1.23.5 in /Library/Frameworks/Python.framework/Versions/3.12/lib/python3.12/site-packages (from scipy) (2.0.2)\n"
     ]
    }
   ],
   "source": [
    "# Install scipy library\n",
    "!pip install scipy"
   ]
  },
  {
   "cell_type": "code",
   "execution_count": 41,
   "metadata": {},
   "outputs": [],
   "source": [
    "# Import scipy library\n",
    "from scipy import stats"
   ]
  },
  {
   "cell_type": "code",
   "execution_count": 42,
   "metadata": {},
   "outputs": [],
   "source": [
    "# Define categorical/continuous variables\n",
    "cat_cols = ['veh_body', 'gender', 'area', 'agecat', 'veh_age']\n",
    "# Include 'index' in continuous columns\n",
    "cont_cols = ['veh_value', 'exposure'] "
   ]
  },
  {
   "cell_type": "code",
   "execution_count": 43,
   "metadata": {},
   "outputs": [],
   "source": [
    "# Remove outliers from all columns\n",
    "def remove_outliers(df, columns, n_std=3):\n",
    "    df_clean = df.copy()\n",
    "    for col in columns:\n",
    "        mean = df_clean[col].mean()\n",
    "        std = df_clean[col].std()\n",
    "        df_clean = df_clean[abs(df_clean[col] - mean) <= (n_std * std)]\n",
    "    return df_clean\n",
    "\n",
    "\n",
    "# Remove outliers from continuous columns \n",
    "df_auto_processed = remove_outliers(df_auto_processed, cont_cols, n_std=3)\n",
    "\n"
   ]
  },
  {
   "cell_type": "code",
   "execution_count": 44,
   "metadata": {},
   "outputs": [
    {
     "data": {
      "text/plain": [
       "'\\nHandle and remove outliers END\\n===============================\\n'"
      ]
     },
     "execution_count": 44,
     "metadata": {},
     "output_type": "execute_result"
    }
   ],
   "source": [
    "\"\"\"\n",
    "Handle and remove outliers END\n",
    "===============================\n",
    "\"\"\""
   ]
  },
  {
   "cell_type": "code",
   "execution_count": 45,
   "metadata": {},
   "outputs": [
    {
     "data": {
      "text/plain": [
       "'\\nStage 1: Claim Eligibility\\n===============================\\n- Binary classification: 0 (No Claim) or 1 (Claim)\\n- Drop numclaims for Stage 1\\n- Define the dependent variable and categorical/continuous variables\\n- Split the data into training and testing sets\\n- Create dataloaders\\n- Train the model\\n- Evaluate the model\\n'"
      ]
     },
     "execution_count": 45,
     "metadata": {},
     "output_type": "execute_result"
    }
   ],
   "source": [
    "\"\"\"\n",
    "Stage 1: Claim Eligibility\n",
    "===============================\n",
    "- Binary classification: 0 (No Claim) or 1 (Claim)\n",
    "- Drop numclaims for Stage 1\n",
    "- Define the dependent variable and categorical/continuous variables\n",
    "- Split the data into training and testing sets\n",
    "- Create dataloaders\n",
    "- Train the model\n",
    "- Evaluate the model\n",
    "\"\"\""
   ]
  },
  {
   "cell_type": "code",
   "execution_count": 46,
   "metadata": {},
   "outputs": [],
   "source": [
    "# This function is used to create a dataloader for Stage 1\n",
    "def create_stage1_dataloader(df_stage1, valid_pct=0.2, bs=64):\n",
    "    procs = [Categorify, FillMissing]\n",
    "\n",
    "    splits = RandomSplitter(valid_pct=valid_pct)(range_of(df_stage1))\n",
    "        \n",
    "    to_eligibility = TabularPandas(\n",
    "        df_stage1, \n",
    "        procs=procs, \n",
    "        cat_names=cat_cols, \n",
    "        cont_names=cont_cols, \n",
    "        y_names='has_claim', \n",
    "        y_block=CategoryBlock,  # Explicitly specify categorical target\n",
    "        splits=splits\n",
    "    )\n",
    "    dls_eligibility = to_eligibility.dataloaders(bs=64, shuffle_train=True, val_bs=64, drop_last=True)\n",
    "\n",
    "\n",
    "    return dls_eligibility"
   ]
  },
  {
   "cell_type": "code",
   "execution_count": 47,
   "metadata": {},
   "outputs": [],
   "source": [
    "# Define the custom splitter at the global scope\n",
    "class ResamplingTrainSplitter:\n",
    "    def __init__(self, df_stage1, valid_pct=0.2):\n",
    "        self.df_stage1 = df_stage1\n",
    "        self.valid_pct = valid_pct\n",
    "\n",
    "    def __call__(self, items):  \n",
    "        # Get the original dataframe indices\n",
    "        df_indices = np.arange(len(self.df_stage1))\n",
    "        \n",
    "        # Resample training data\n",
    "        X = self.df_stage1.drop('has_claim', axis=1)\n",
    "        y = self.df_stage1['has_claim']\n",
    "        rus = RandomUnderSampler(random_state=42)\n",
    "        X_resampled, y_resampled = rus.fit_resample(X, y)\n",
    "        \n",
    "        # Calculate number of validation samples\n",
    "        n_valid = int(len(self.df_stage1) * self.valid_pct)\n",
    "        \n",
    "        # Create train/valid indices\n",
    "        valid_idx = np.random.choice(df_indices, size=n_valid, replace=False)\n",
    "        train_idx = np.arange(len(X_resampled))  # Use indices of resampled data\n",
    "        \n",
    "        return train_idx, valid_idx"
   ]
  },
  {
   "cell_type": "code",
   "execution_count": 48,
   "metadata": {},
   "outputs": [],
   "source": [
    "# This function is used to resample the data to balance the dataset\n",
    "def resample_data(df, dep_var, random_state=42):\n",
    "    # Separate features and target\n",
    "    X = df.drop(dep_var, axis=1).reset_index(drop=True)\n",
    "    y = df[dep_var].reset_index(drop=True)\n",
    "    \n",
    "    sampling_strategy = 0.5  # This means majority:minority = 2:1\n",
    "\n",
    "    # Apply Random UnderSampling\n",
    "    rus = RandomUnderSampler(random_state=random_state, sampling_strategy=sampling_strategy)\n",
    "    X_resampled, y_resampled = rus.fit_resample(X, y)\n",
    "    \n",
    "    # Create resampled DataFrame\n",
    "    df_resampled = pd.concat(\n",
    "        [\n",
    "            pd.DataFrame(X_resampled, columns=X.columns),\n",
    "            pd.Series(y_resampled, name=dep_var)\n",
    "        ],\n",
    "        axis=1\n",
    "    )\n",
    "    return df_resampled"
   ]
  },
  {
   "cell_type": "code",
   "execution_count": 49,
   "metadata": {},
   "outputs": [],
   "source": [
    "# This function is used to train the model with the best parameters\n",
    "def train_model_with_params(n_layers, layer_sizes, lr):\n",
    "    # Prepare the full dataset\n",
    "    df_stage1 = X.copy()\n",
    "\n",
    "        # Convert categorical columns to category dtype\n",
    "    for col in cat_cols:\n",
    "        df_stage1[col] = df_stage1[col].astype('category')\n",
    "\n",
    "    # Define preprocessing steps\n",
    "    procs = [Categorify, FillMissing]\n",
    "    \n",
    "    # Create splits for training and validation set\n",
    "    # Use the original data for validation\n",
    "    splits = RandomSplitter(valid_pct=0.2, seed=42)(range_of(df_stage1))\n",
    "    \n",
    "    # Create TabularPandas for initial data\n",
    "    to = TabularPandas(\n",
    "        df_stage1,\n",
    "        procs=procs,\n",
    "        cat_names=cat_cols,\n",
    "        cont_names=cont_cols,\n",
    "        y_names='has_claim',\n",
    "        y_block=CategoryBlock,\n",
    "        splits=splits\n",
    "    )\n",
    "    \n",
    "    # Create DataLoaders\n",
    "    dls = to.dataloaders(bs=64)\n",
    "    \n",
    "    # Initialize the learner with the initial DataLoaders\n",
    "    learn = tabular_learner(\n",
    "        dls,\n",
    "        layers=layer_sizes,\n",
    "        metrics=[accuracy, F1Score()],\n",
    "        loss_func=CrossEntropyLossFlat(),\n",
    "        wd=0.01  # Weight decay\n",
    "    )\n",
    "    \n",
    "    # Number of epochs you want to train\n",
    "    n_epochs = 5  # You can adjust this as needed\n",
    "    \n",
    "    for epoch in range(n_epochs):\n",
    "        print(f\"\\nEpoch {epoch+1}/{n_epochs}\")\n",
    "        \n",
    "        # Resample the data\n",
    "        df_resampled = resample_data(df_stage1, 'has_claim')\n",
    "        \n",
    "        # Create splits for resampled data\n",
    "        # All data in train; empty validation since we're keeping validation from original data\n",
    "        splits_resampled = (range_of(df_resampled), [])  # All data in training set\n",
    "        \n",
    "        # Re-create the TabularPandas object for training data\n",
    "        # Ensure categorical columns are of type 'category'\n",
    "        for col in cat_cols:\n",
    "            df_resampled[col] = df_resampled[col].astype('category')\n",
    "        \n",
    "        to_resampled = TabularPandas(\n",
    "            df_resampled,\n",
    "            procs=procs,\n",
    "            cat_names=cat_cols,\n",
    "            cont_names=cont_cols,\n",
    "            y_names='has_claim',\n",
    "            y_block=CategoryBlock,\n",
    "            splits=splits_resampled\n",
    "        )\n",
    "\n",
    "        # Create new training DataLoader\n",
    "        train_dl = to_resampled.dataloaders(bs=64).train  # Get the training DataLoader\n",
    "        \n",
    "        # Update the learner's training DataLoader\n",
    "        learn.dls.train = train_dl\n",
    "        \n",
    "        # Train for one epoch\n",
    "        learn.fit(1, lr)\n",
    "        \n",
    "    # After training, retrieve metrics\n",
    "    # Get the names of the metrics\n",
    "    metrics_names = [m.name for m in learn.metrics]\n",
    "\n",
    "    # Get the last recorded values (training loss, validation loss, metrics)\n",
    "    last_epoch_values = learn.recorder.values[-1]  # List of [train_loss, valid_loss, metric1, metric2, ...]\n",
    "\n",
    "    # The metrics start after the losses\n",
    "    metrics_values = last_epoch_values[2:]  # Skip train_loss and valid_loss\n",
    "\n",
    "    # Create a dictionary mapping metric names to their values\n",
    "    metrics_dict = dict(zip(metrics_names, metrics_values))\n",
    "\n",
    "    # Access accuracy and F1 score\n",
    "    acc = metrics_dict.get('accuracy')\n",
    "    f1 = metrics_dict.get('f1_score')\n",
    "\n",
    "    return learn, acc, f1"
   ]
  },
  {
   "cell_type": "code",
   "execution_count": 50,
   "metadata": {},
   "outputs": [
    {
     "name": "stdout",
     "output_type": "stream",
     "text": [
      "\n",
      "Trying layers=[200, 100], lr=0.001\n",
      "\n",
      "Epoch 1/5\n"
     ]
    },
    {
     "data": {
      "text/html": [
       "\n",
       "<style>\n",
       "    /* Turns off some styling */\n",
       "    progress {\n",
       "        /* gets rid of default border in Firefox and Opera. */\n",
       "        border: none;\n",
       "        /* Needs to be in here for Safari polyfill so background images work as expected. */\n",
       "        background-size: auto;\n",
       "    }\n",
       "    progress:not([value]), progress:not([value])::-webkit-progress-bar {\n",
       "        background: repeating-linear-gradient(45deg, #7e7e7e, #7e7e7e 10px, #5c5c5c 10px, #5c5c5c 20px);\n",
       "    }\n",
       "    .progress-bar-interrupted, .progress-bar-interrupted::-webkit-progress-bar {\n",
       "        background: #F44336;\n",
       "    }\n",
       "</style>\n"
      ],
      "text/plain": [
       "<IPython.core.display.HTML object>"
      ]
     },
     "metadata": {},
     "output_type": "display_data"
    },
    {
     "data": {
      "text/html": [
       "<table border=\"1\" class=\"dataframe\">\n",
       "  <thead>\n",
       "    <tr style=\"text-align: left;\">\n",
       "      <th>epoch</th>\n",
       "      <th>train_loss</th>\n",
       "      <th>valid_loss</th>\n",
       "      <th>accuracy</th>\n",
       "      <th>f1_score</th>\n",
       "      <th>time</th>\n",
       "    </tr>\n",
       "  </thead>\n",
       "  <tbody>\n",
       "    <tr>\n",
       "      <td>0</td>\n",
       "      <td>0.606240</td>\n",
       "      <td>0.450521</td>\n",
       "      <td>0.907008</td>\n",
       "      <td>0.081514</td>\n",
       "      <td>00:05</td>\n",
       "    </tr>\n",
       "  </tbody>\n",
       "</table>"
      ],
      "text/plain": [
       "<IPython.core.display.HTML object>"
      ]
     },
     "metadata": {},
     "output_type": "display_data"
    },
    {
     "name": "stdout",
     "output_type": "stream",
     "text": [
      "\n",
      "Epoch 2/5\n"
     ]
    },
    {
     "data": {
      "text/html": [
       "\n",
       "<style>\n",
       "    /* Turns off some styling */\n",
       "    progress {\n",
       "        /* gets rid of default border in Firefox and Opera. */\n",
       "        border: none;\n",
       "        /* Needs to be in here for Safari polyfill so background images work as expected. */\n",
       "        background-size: auto;\n",
       "    }\n",
       "    progress:not([value]), progress:not([value])::-webkit-progress-bar {\n",
       "        background: repeating-linear-gradient(45deg, #7e7e7e, #7e7e7e 10px, #5c5c5c 10px, #5c5c5c 20px);\n",
       "    }\n",
       "    .progress-bar-interrupted, .progress-bar-interrupted::-webkit-progress-bar {\n",
       "        background: #F44336;\n",
       "    }\n",
       "</style>\n"
      ],
      "text/plain": [
       "<IPython.core.display.HTML object>"
      ]
     },
     "metadata": {},
     "output_type": "display_data"
    },
    {
     "data": {
      "text/html": [
       "<table border=\"1\" class=\"dataframe\">\n",
       "  <thead>\n",
       "    <tr style=\"text-align: left;\">\n",
       "      <th>epoch</th>\n",
       "      <th>train_loss</th>\n",
       "      <th>valid_loss</th>\n",
       "      <th>accuracy</th>\n",
       "      <th>f1_score</th>\n",
       "      <th>time</th>\n",
       "    </tr>\n",
       "  </thead>\n",
       "  <tbody>\n",
       "    <tr>\n",
       "      <td>0</td>\n",
       "      <td>0.608286</td>\n",
       "      <td>0.453369</td>\n",
       "      <td>0.810552</td>\n",
       "      <td>0.176226</td>\n",
       "      <td>00:03</td>\n",
       "    </tr>\n",
       "  </tbody>\n",
       "</table>"
      ],
      "text/plain": [
       "<IPython.core.display.HTML object>"
      ]
     },
     "metadata": {},
     "output_type": "display_data"
    },
    {
     "name": "stdout",
     "output_type": "stream",
     "text": [
      "\n",
      "Epoch 3/5\n"
     ]
    },
    {
     "data": {
      "text/html": [
       "\n",
       "<style>\n",
       "    /* Turns off some styling */\n",
       "    progress {\n",
       "        /* gets rid of default border in Firefox and Opera. */\n",
       "        border: none;\n",
       "        /* Needs to be in here for Safari polyfill so background images work as expected. */\n",
       "        background-size: auto;\n",
       "    }\n",
       "    progress:not([value]), progress:not([value])::-webkit-progress-bar {\n",
       "        background: repeating-linear-gradient(45deg, #7e7e7e, #7e7e7e 10px, #5c5c5c 10px, #5c5c5c 20px);\n",
       "    }\n",
       "    .progress-bar-interrupted, .progress-bar-interrupted::-webkit-progress-bar {\n",
       "        background: #F44336;\n",
       "    }\n",
       "</style>\n"
      ],
      "text/plain": [
       "<IPython.core.display.HTML object>"
      ]
     },
     "metadata": {},
     "output_type": "display_data"
    },
    {
     "data": {
      "text/html": [
       "<table border=\"1\" class=\"dataframe\">\n",
       "  <thead>\n",
       "    <tr style=\"text-align: left;\">\n",
       "      <th>epoch</th>\n",
       "      <th>train_loss</th>\n",
       "      <th>valid_loss</th>\n",
       "      <th>accuracy</th>\n",
       "      <th>f1_score</th>\n",
       "      <th>time</th>\n",
       "    </tr>\n",
       "  </thead>\n",
       "  <tbody>\n",
       "    <tr>\n",
       "      <td>0</td>\n",
       "      <td>0.603437</td>\n",
       "      <td>0.448363</td>\n",
       "      <td>0.856238</td>\n",
       "      <td>0.169434</td>\n",
       "      <td>00:03</td>\n",
       "    </tr>\n",
       "  </tbody>\n",
       "</table>"
      ],
      "text/plain": [
       "<IPython.core.display.HTML object>"
      ]
     },
     "metadata": {},
     "output_type": "display_data"
    },
    {
     "name": "stdout",
     "output_type": "stream",
     "text": [
      "\n",
      "Epoch 4/5\n"
     ]
    },
    {
     "data": {
      "text/html": [
       "\n",
       "<style>\n",
       "    /* Turns off some styling */\n",
       "    progress {\n",
       "        /* gets rid of default border in Firefox and Opera. */\n",
       "        border: none;\n",
       "        /* Needs to be in here for Safari polyfill so background images work as expected. */\n",
       "        background-size: auto;\n",
       "    }\n",
       "    progress:not([value]), progress:not([value])::-webkit-progress-bar {\n",
       "        background: repeating-linear-gradient(45deg, #7e7e7e, #7e7e7e 10px, #5c5c5c 10px, #5c5c5c 20px);\n",
       "    }\n",
       "    .progress-bar-interrupted, .progress-bar-interrupted::-webkit-progress-bar {\n",
       "        background: #F44336;\n",
       "    }\n",
       "</style>\n"
      ],
      "text/plain": [
       "<IPython.core.display.HTML object>"
      ]
     },
     "metadata": {},
     "output_type": "display_data"
    },
    {
     "data": {
      "text/html": [
       "<table border=\"1\" class=\"dataframe\">\n",
       "  <thead>\n",
       "    <tr style=\"text-align: left;\">\n",
       "      <th>epoch</th>\n",
       "      <th>train_loss</th>\n",
       "      <th>valid_loss</th>\n",
       "      <th>accuracy</th>\n",
       "      <th>f1_score</th>\n",
       "      <th>time</th>\n",
       "    </tr>\n",
       "  </thead>\n",
       "  <tbody>\n",
       "    <tr>\n",
       "      <td>0</td>\n",
       "      <td>0.607526</td>\n",
       "      <td>0.444721</td>\n",
       "      <td>0.851227</td>\n",
       "      <td>0.168109</td>\n",
       "      <td>00:04</td>\n",
       "    </tr>\n",
       "  </tbody>\n",
       "</table>"
      ],
      "text/plain": [
       "<IPython.core.display.HTML object>"
      ]
     },
     "metadata": {},
     "output_type": "display_data"
    },
    {
     "name": "stdout",
     "output_type": "stream",
     "text": [
      "\n",
      "Epoch 5/5\n"
     ]
    },
    {
     "data": {
      "text/html": [
       "\n",
       "<style>\n",
       "    /* Turns off some styling */\n",
       "    progress {\n",
       "        /* gets rid of default border in Firefox and Opera. */\n",
       "        border: none;\n",
       "        /* Needs to be in here for Safari polyfill so background images work as expected. */\n",
       "        background-size: auto;\n",
       "    }\n",
       "    progress:not([value]), progress:not([value])::-webkit-progress-bar {\n",
       "        background: repeating-linear-gradient(45deg, #7e7e7e, #7e7e7e 10px, #5c5c5c 10px, #5c5c5c 20px);\n",
       "    }\n",
       "    .progress-bar-interrupted, .progress-bar-interrupted::-webkit-progress-bar {\n",
       "        background: #F44336;\n",
       "    }\n",
       "</style>\n"
      ],
      "text/plain": [
       "<IPython.core.display.HTML object>"
      ]
     },
     "metadata": {},
     "output_type": "display_data"
    },
    {
     "data": {
      "text/html": [
       "<table border=\"1\" class=\"dataframe\">\n",
       "  <thead>\n",
       "    <tr style=\"text-align: left;\">\n",
       "      <th>epoch</th>\n",
       "      <th>train_loss</th>\n",
       "      <th>valid_loss</th>\n",
       "      <th>accuracy</th>\n",
       "      <th>f1_score</th>\n",
       "      <th>time</th>\n",
       "    </tr>\n",
       "  </thead>\n",
       "  <tbody>\n",
       "    <tr>\n",
       "      <td>0</td>\n",
       "      <td>0.599187</td>\n",
       "      <td>0.429297</td>\n",
       "      <td>0.863533</td>\n",
       "      <td>0.162749</td>\n",
       "      <td>00:04</td>\n",
       "    </tr>\n",
       "  </tbody>\n",
       "</table>"
      ],
      "text/plain": [
       "<IPython.core.display.HTML object>"
      ]
     },
     "metadata": {},
     "output_type": "display_data"
    },
    {
     "name": "stdout",
     "output_type": "stream",
     "text": [
      "\n",
      "Best parameters:\n",
      "Layers: [200, 100]\n",
      "Learning rate: 0.001\n",
      "Accuracy: 0.8635\n",
      "F1 Score: 0.1627\n"
     ]
    }
   ],
   "source": [
    "# Define Stage 1 parameter grid\n",
    "layer_configs = [\n",
    "    #[100,50],\n",
    "    [200,100],\n",
    "    #[300,150],\n",
    "    #[200,100,50],\n",
    "    #[400,200,100],  # Added deeper networks\n",
    "    #[150,100,50,25]  # Added deeper network with smaller layers\n",
    "]\n",
    "learning_rates = [1e-3]#, 1e-2, 5e-1] \n",
    "\n",
    "\n",
    "# Perform Stage 1 grid search\n",
    "results = []\n",
    "for layers in layer_configs:\n",
    "    for lr in learning_rates:\n",
    "        print(f\"\\nTrying layers={layers}, lr={lr}\")\n",
    "        learn, acc, f1 = train_model_with_params(len(layers), layers, lr)\n",
    "        results.append({\n",
    "            'layers': layers,\n",
    "            'lr': lr,\n",
    "            'accuracy': acc,\n",
    "            'f1_score': f1,\n",
    "            'model': learn  # Store the model\n",
    "        })\n",
    "\n",
    "# Find best parameters\n",
    "best_result = max(results, key=lambda x: x['f1_score'])\n",
    "print(f\"\\nBest parameters:\")\n",
    "print(f\"Layers: {best_result['layers']}\")\n",
    "print(f\"Learning rate: {best_result['lr']}\")\n",
    "print(f\"Accuracy: {float(best_result['accuracy']):.4f}\")\n",
    "print(f\"F1 Score: {float(best_result['f1_score']):.4f}\")"
   ]
  },
  {
   "cell_type": "code",
   "execution_count": 51,
   "metadata": {},
   "outputs": [
    {
     "data": {
      "text/plain": [
       "'\\nHugging Face Start\\n===============================\\n- Save and export Stage 1 Trained Model\\n'"
      ]
     },
     "execution_count": 51,
     "metadata": {},
     "output_type": "execute_result"
    }
   ],
   "source": [
    "\"\"\"\n",
    "Hugging Face Start\n",
    "===============================\n",
    "- Save and export Stage 1 Trained Model\n",
    "\"\"\""
   ]
  },
  {
   "cell_type": "code",
   "execution_count": 52,
   "metadata": {},
   "outputs": [],
   "source": [
    "# Find the best Stage 1 result\n",
    "best_result = max(results, key=lambda x: x['f1_score'])\n",
    "best_learn = best_result['model']\n",
    "\n",
    "# Save the Stage 1 model\n",
    "best_learn.export('stage1_claim_classifier.pkl')"
   ]
  },
  {
   "cell_type": "code",
   "execution_count": 53,
   "metadata": {},
   "outputs": [
    {
     "name": "stdout",
     "output_type": "stream",
     "text": [
      "Original Data Statistics:\n",
      "          veh_value      exposure\n",
      "count  66821.000000  66821.000000\n",
      "mean       1.698113      0.469091\n",
      "std        0.988466      0.290269\n",
      "min        0.000000      0.002738\n",
      "25%        1.000000      0.219028\n",
      "50%        1.480000      0.446270\n",
      "75%        2.100000      0.709103\n",
      "max        5.390000      0.999316\n",
      "\n",
      "Scaled Data Statistics:\n",
      "          veh_value      exposure\n",
      "count  6.682100e+04  6.682100e+04\n",
      "mean   4.678751e-18  1.616296e-16\n",
      "std    1.000007e+00  1.000007e+00\n",
      "min   -1.717940e+00 -1.606638e+00\n",
      "25%   -7.062642e-01 -8.614946e-01\n",
      "50%   -2.206598e-01 -7.862191e-02\n",
      "75%    4.065793e-01  8.268694e-01\n",
      "max    3.734993e+00  1.826683e+00\n"
     ]
    },
    {
     "data": {
      "image/png": "[encoded data removed]",
      "text/plain": [
       "<Figure size 1200x400 with 2 Axes>"
      ]
     },
     "metadata": {},
     "output_type": "display_data"
    }
   ],
   "source": [
    "\"\"\"\n",
    "Standardize the continuous variables\n",
    "===============================\n",
    "\"\"\"\n",
    "from sklearn.preprocessing import StandardScaler\n",
    "\n",
    "# 1. Display summary statistics of original data\n",
    "# To understand the initial distribution of our features\n",
    "print(\"Original Data Statistics:\")\n",
    "print(df_auto_processed[cont_cols].describe())\n",
    "\n",
    "# 2. Initialize and apply StandardScaler\n",
    "scaler = StandardScaler()\n",
    "X_scaled = scaler.fit_transform(df_auto_processed[cont_cols])\n",
    "\n",
    "# 3. Convert scaled data back to DataFrame for easier inspection\n",
    "X_scaled_df = pd.DataFrame(X_scaled, columns=cont_cols)\n",
    "\n",
    "# 4. Check statistics of scaled data\n",
    "print(\"\\nScaled Data Statistics:\")\n",
    "print(X_scaled_df.describe())\n",
    "\n",
    "# 5. Optional: Visual verification with boxplots\n",
    "import matplotlib.pyplot as plt\n",
    "\n",
    "# Original data\n",
    "plt.figure(figsize=(12, 4))\n",
    "plt.subplot(1, 2, 1)\n",
    "df_auto_processed[cont_cols].boxplot()\n",
    "plt.title('Original Features')\n",
    "plt.xticks(rotation=45)\n",
    "\n",
    "# Scaled data\n",
    "plt.subplot(1, 2, 2)\n",
    "X_scaled_df.boxplot()\n",
    "plt.title('Scaled Features')\n",
    "plt.xticks(rotation=45)\n",
    "\n",
    "plt.tight_layout()\n",
    "plt.show()"
   ]
  },
  {
   "cell_type": "code",
   "execution_count": 54,
   "metadata": {},
   "outputs": [
    {
     "data": {
      "text/plain": [
       "'\\nStage 2: Claim Amount\\n===============================\\n- Predict the potential claim value for eligible cases\\n- Drop unnecessary columns\\n- Add numclaims to the dataset\\n- Drop numclaims 0\\n'"
      ]
     },
     "execution_count": 54,
     "metadata": {},
     "output_type": "execute_result"
    }
   ],
   "source": [
    "\"\"\"\n",
    "Stage 2: Claim Amount\n",
    "===============================\n",
    "- Predict the potential claim value for eligible cases\n",
    "- Drop unnecessary columns\n",
    "- Add numclaims to the dataset\n",
    "- Drop numclaims 0\n",
    "\"\"\""
   ]
  },
  {
   "cell_type": "code",
   "execution_count": 55,
   "metadata": {},
   "outputs": [
    {
     "data": {
      "text/html": [
       "<div>\n",
       "<style scoped>\n",
       "    .dataframe tbody tr th:only-of-type {\n",
       "        vertical-align: middle;\n",
       "    }\n",
       "\n",
       "    .dataframe tbody tr th {\n",
       "        vertical-align: top;\n",
       "    }\n",
       "\n",
       "    .dataframe thead th {\n",
       "        text-align: right;\n",
       "    }\n",
       "</style>\n",
       "<table border=\"1\" class=\"dataframe\">\n",
       "  <thead>\n",
       "    <tr style=\"text-align: right;\">\n",
       "      <th></th>\n",
       "      <th>Index</th>\n",
       "      <th>veh_value</th>\n",
       "      <th>exposure</th>\n",
       "      <th>clm</th>\n",
       "      <th>numclaims</th>\n",
       "      <th>claimcst0</th>\n",
       "      <th>veh_body</th>\n",
       "      <th>veh_age</th>\n",
       "      <th>gender</th>\n",
       "      <th>area</th>\n",
       "      <th>agecat</th>\n",
       "      <th>has_claim</th>\n",
       "    </tr>\n",
       "  </thead>\n",
       "  <tbody>\n",
       "    <tr>\n",
       "      <th>0</th>\n",
       "      <td>1</td>\n",
       "      <td>1.06</td>\n",
       "      <td>0.303901</td>\n",
       "      <td>0</td>\n",
       "      <td>0</td>\n",
       "      <td>0.0</td>\n",
       "      <td>HBACK</td>\n",
       "      <td>3</td>\n",
       "      <td>F</td>\n",
       "      <td>C</td>\n",
       "      <td>2</td>\n",
       "      <td>0</td>\n",
       "    </tr>\n",
       "    <tr>\n",
       "      <th>1</th>\n",
       "      <td>2</td>\n",
       "      <td>1.03</td>\n",
       "      <td>0.648871</td>\n",
       "      <td>0</td>\n",
       "      <td>0</td>\n",
       "      <td>0.0</td>\n",
       "      <td>HBACK</td>\n",
       "      <td>2</td>\n",
       "      <td>F</td>\n",
       "      <td>A</td>\n",
       "      <td>4</td>\n",
       "      <td>0</td>\n",
       "    </tr>\n",
       "    <tr>\n",
       "      <th>2</th>\n",
       "      <td>3</td>\n",
       "      <td>3.26</td>\n",
       "      <td>0.569473</td>\n",
       "      <td>0</td>\n",
       "      <td>0</td>\n",
       "      <td>0.0</td>\n",
       "      <td>UTE</td>\n",
       "      <td>2</td>\n",
       "      <td>F</td>\n",
       "      <td>E</td>\n",
       "      <td>2</td>\n",
       "      <td>0</td>\n",
       "    </tr>\n",
       "    <tr>\n",
       "      <th>3</th>\n",
       "      <td>4</td>\n",
       "      <td>4.14</td>\n",
       "      <td>0.317591</td>\n",
       "      <td>0</td>\n",
       "      <td>0</td>\n",
       "      <td>0.0</td>\n",
       "      <td>STNWG</td>\n",
       "      <td>2</td>\n",
       "      <td>F</td>\n",
       "      <td>D</td>\n",
       "      <td>2</td>\n",
       "      <td>0</td>\n",
       "    </tr>\n",
       "    <tr>\n",
       "      <th>4</th>\n",
       "      <td>5</td>\n",
       "      <td>0.72</td>\n",
       "      <td>0.648871</td>\n",
       "      <td>0</td>\n",
       "      <td>0</td>\n",
       "      <td>0.0</td>\n",
       "      <td>HBACK</td>\n",
       "      <td>4</td>\n",
       "      <td>F</td>\n",
       "      <td>C</td>\n",
       "      <td>2</td>\n",
       "      <td>0</td>\n",
       "    </tr>\n",
       "  </tbody>\n",
       "</table>\n",
       "</div>"
      ],
      "text/plain": [
       "   Index  veh_value  exposure  clm  numclaims  claimcst0 veh_body  veh_age  \\\n",
       "0      1       1.06  0.303901    0          0        0.0    HBACK        3   \n",
       "1      2       1.03  0.648871    0          0        0.0    HBACK        2   \n",
       "2      3       3.26  0.569473    0          0        0.0      UTE        2   \n",
       "3      4       4.14  0.317591    0          0        0.0    STNWG        2   \n",
       "4      5       0.72  0.648871    0          0        0.0    HBACK        4   \n",
       "\n",
       "  gender area  agecat  has_claim  \n",
       "0      F    C       2          0  \n",
       "1      F    A       4          0  \n",
       "2      F    E       2          0  \n",
       "3      F    D       2          0  \n",
       "4      F    C       2          0  "
      ]
     },
     "execution_count": 55,
     "metadata": {},
     "output_type": "execute_result"
    }
   ],
   "source": [
    "# Create a copy of the preprocessed DataFrame\n",
    "df_stage2 = df_auto_processed.copy()\n",
    "\n",
    "# Display the first few rows\n",
    "df_stage2.head()"
   ]
  },
  {
   "cell_type": "code",
   "execution_count": 56,
   "metadata": {},
   "outputs": [
    {
     "name": "stdout",
     "output_type": "stream",
     "text": [
      "clm\n",
      "0    62260\n",
      "1     4561\n",
      "Name: count, dtype: int64\n"
     ]
    }
   ],
   "source": [
    "# Analyze the distribution of claims in Stage 2 dataset\n",
    "print(df_stage2['clm'].value_counts())\n",
    "   "
   ]
  },
  {
   "cell_type": "code",
   "execution_count": 57,
   "metadata": {},
   "outputs": [
    {
     "name": "stdout",
     "output_type": "stream",
     "text": [
      "numclaims\n",
      "0    62260\n",
      "1     4275\n",
      "2      266\n",
      "3       18\n",
      "4        2\n",
      "Name: count, dtype: int64\n"
     ]
    }
   ],
   "source": [
    "# Check unique values and their counts\n",
    "print(df_stage2['numclaims'].value_counts())"
   ]
  },
  {
   "cell_type": "code",
   "execution_count": 58,
   "metadata": {},
   "outputs": [
    {
     "name": "stdout",
     "output_type": "stream",
     "text": [
      "Dropping 'has_claim' column\n"
     ]
    }
   ],
   "source": [
    "# Remove redundant 'has_claim' column from Stage 2 dataset\n",
    "# Rationale:\n",
    "# 1. Stage 2 only includes cases that have claims (has_claim = 1)\n",
    "# 2. This column provides no additional information for claim amount prediction\n",
    "# 3. Removing it prevents data leakage and reduces unnecessary features\n",
    "if 'has_claim' in df_stage2.columns:\n",
    "    print(\"Dropping 'has_claim' column\")\n",
    "    df_stage2 = df_stage2.drop(columns=['has_claim'])"
   ]
  },
  {
   "cell_type": "code",
   "execution_count": 59,
   "metadata": {},
   "outputs": [
    {
     "name": "stdout",
     "output_type": "stream",
     "text": [
      "Dropping 'clm' column\n"
     ]
    }
   ],
   "source": [
    "# Remove binary 'clm' column from Stage 2 dataset\n",
    "# Rationale:\n",
    "# 1. Stage 2 focuses on predicting claim amount, not claim existence\n",
    "# 2. All records in Stage 2 have claims (clm = 1), making this column constant\n",
    "# 3. Removing constant features improves model efficiency and prevents redundancy\n",
    "if 'clm' in df_stage2.columns:\n",
    "    print(\"Dropping 'clm' column\")\n",
    "    df_stage2 = df_stage2.drop(columns=['clm'])"
   ]
  },
  {
   "cell_type": "code",
   "execution_count": 60,
   "metadata": {},
   "outputs": [
    {
     "name": "stdout",
     "output_type": "stream",
     "text": [
      "Dropping 'Index' column\n"
     ]
    }
   ],
   "source": [
    "# Remove 'Index' column from Stage 2 dataset\n",
    "# Rationale:\n",
    "# Index is just a row identifier and carries no predictive value\n",
    "if 'Index' in df_stage2.columns:\n",
    "    print(\"Dropping 'Index' column\")\n",
    "    df_stage2 = df_stage2.drop(columns=['Index'])"
   ]
  },
  {
   "cell_type": "code",
   "execution_count": 61,
   "metadata": {},
   "outputs": [
    {
     "name": "stdout",
     "output_type": "stream",
     "text": [
      "numclaims\n",
      "1    4275\n",
      "2     266\n",
      "3      18\n",
      "4       2\n",
      "Name: count, dtype: int64\n"
     ]
    }
   ],
   "source": [
    "# Filter dataset to include only valid claim cases\n",
    "# Only predict claim cost (clmcst0) if there is a claim (nu_claims > 0)\n",
    "df_stage2 = df_stage2[df_stage2['numclaims'] > 0].reset_index(drop=True)\n",
    "\n",
    "# Verify that 'numclaims' no longer contains zero\n",
    "print(df_stage2['numclaims'].value_counts())"
   ]
  },
  {
   "cell_type": "code",
   "execution_count": 62,
   "metadata": {},
   "outputs": [],
   "source": [
    "# Define the target variable\n",
    "dep_var_stage2 = 'claimcst0'"
   ]
  },
  {
   "cell_type": "code",
   "execution_count": 63,
   "metadata": {},
   "outputs": [],
   "source": [
    "# Define categorical and continuous variables\n",
    "cat_names_stage2 = ['veh_body', 'gender', 'area', 'agecat', 'veh_age']\n",
    "cont_names_stage2 = ['veh_value', 'exposure', 'numclaims']"
   ]
  },
  {
   "cell_type": "code",
   "execution_count": 64,
   "metadata": {},
   "outputs": [
    {
     "name": "stdout",
     "output_type": "stream",
     "text": [
      "Categorical variables: ['veh_body', 'gender', 'area', 'agecat', 'veh_age']\n",
      "Continuous variables: ['veh_value', 'exposure', 'numclaims']\n"
     ]
    }
   ],
   "source": [
    "# Display feature names\n",
    "print(\"Categorical variables:\", cat_names_stage2)\n",
    "print(\"Continuous variables:\", cont_names_stage2)"
   ]
  },
  {
   "cell_type": "code",
   "execution_count": 65,
   "metadata": {},
   "outputs": [
    {
     "name": "stdout",
     "output_type": "stream",
     "text": [
      "Missing values in the dataset:\n",
      "veh_value    0\n",
      "exposure     0\n",
      "numclaims    0\n",
      "claimcst0    0\n",
      "veh_body     0\n",
      "veh_age      0\n",
      "gender       0\n",
      "area         0\n",
      "agecat       0\n",
      "dtype: int64\n"
     ]
    }
   ],
   "source": [
    "# Check for missing values\n",
    "print(\"Missing values in the dataset:\")\n",
    "print(df_stage2.isnull().sum())"
   ]
  },
  {
   "cell_type": "code",
   "execution_count": 66,
   "metadata": {},
   "outputs": [],
   "source": [
    "# Convert categorical columns to 'category' dtype\n",
    "for col in cat_names_stage2:\n",
    "    df_stage2[col] = df_stage2[col].astype('category')"
   ]
  },
  {
   "cell_type": "code",
   "execution_count": 67,
   "metadata": {},
   "outputs": [
    {
     "name": "stdout",
     "output_type": "stream",
     "text": [
      "\n",
      "Data types after conversion:\n",
      "veh_value     float64\n",
      "exposure      float64\n",
      "numclaims       int64\n",
      "claimcst0     float64\n",
      "veh_body     category\n",
      "veh_age      category\n",
      "gender       category\n",
      "area         category\n",
      "agecat       category\n",
      "dtype: object\n"
     ]
    }
   ],
   "source": [
    "# Verify data types\n",
    "print(\"\\nData types after conversion:\")\n",
    "print(df_stage2.dtypes)"
   ]
  },
  {
   "cell_type": "code",
   "execution_count": 68,
   "metadata": {},
   "outputs": [],
   "source": [
    "# Import libraries\n",
    "from sklearn.ensemble import RandomForestRegressor\n",
    "from sklearn.model_selection import train_test_split\n",
    "from sklearn.metrics import mean_squared_error, mean_absolute_error, r2_score"
   ]
  },
  {
   "cell_type": "code",
   "execution_count": 69,
   "metadata": {},
   "outputs": [],
   "source": [
    "# Create a copy of the dataframe\n",
    "df_rf = df_stage2.copy()"
   ]
  },
  {
   "cell_type": "code",
   "execution_count": 70,
   "metadata": {},
   "outputs": [],
   "source": [
    "# Define the target variable\n",
    "y = df_rf['claimcst0']\n",
    "# Drop the target variable and the related columns\n",
    "X = df_rf.drop(columns=['claimcst0'])  \n",
    "\n",
    "# One-hot encode categorical variables\n",
    "X_encoded = pd.get_dummies(X, columns=cat_names_stage2, drop_first=True)"
   ]
  },
  {
   "cell_type": "code",
   "execution_count": 71,
   "metadata": {},
   "outputs": [
    {
     "data": {
      "text/html": [
       "<div>\n",
       "<style scoped>\n",
       "    .dataframe tbody tr th:only-of-type {\n",
       "        vertical-align: middle;\n",
       "    }\n",
       "\n",
       "    .dataframe tbody tr th {\n",
       "        vertical-align: top;\n",
       "    }\n",
       "\n",
       "    .dataframe thead th {\n",
       "        text-align: right;\n",
       "    }\n",
       "</style>\n",
       "<table border=\"1\" class=\"dataframe\">\n",
       "  <thead>\n",
       "    <tr style=\"text-align: right;\">\n",
       "      <th></th>\n",
       "      <th>veh_value</th>\n",
       "      <th>exposure</th>\n",
       "      <th>numclaims</th>\n",
       "      <th>veh_body</th>\n",
       "      <th>veh_age</th>\n",
       "      <th>gender</th>\n",
       "      <th>area</th>\n",
       "      <th>agecat</th>\n",
       "    </tr>\n",
       "  </thead>\n",
       "  <tbody>\n",
       "    <tr>\n",
       "      <th>0</th>\n",
       "      <td>1.66</td>\n",
       "      <td>0.484600</td>\n",
       "      <td>1</td>\n",
       "      <td>SEDAN</td>\n",
       "      <td>3</td>\n",
       "      <td>M</td>\n",
       "      <td>B</td>\n",
       "      <td>6</td>\n",
       "    </tr>\n",
       "    <tr>\n",
       "      <th>1</th>\n",
       "      <td>1.51</td>\n",
       "      <td>0.993840</td>\n",
       "      <td>1</td>\n",
       "      <td>SEDAN</td>\n",
       "      <td>3</td>\n",
       "      <td>F</td>\n",
       "      <td>F</td>\n",
       "      <td>4</td>\n",
       "    </tr>\n",
       "    <tr>\n",
       "      <th>2</th>\n",
       "      <td>0.76</td>\n",
       "      <td>0.539357</td>\n",
       "      <td>1</td>\n",
       "      <td>HBACK</td>\n",
       "      <td>3</td>\n",
       "      <td>M</td>\n",
       "      <td>C</td>\n",
       "      <td>4</td>\n",
       "    </tr>\n",
       "    <tr>\n",
       "      <th>3</th>\n",
       "      <td>1.89</td>\n",
       "      <td>0.654346</td>\n",
       "      <td>2</td>\n",
       "      <td>STNWG</td>\n",
       "      <td>3</td>\n",
       "      <td>M</td>\n",
       "      <td>F</td>\n",
       "      <td>2</td>\n",
       "    </tr>\n",
       "    <tr>\n",
       "      <th>4</th>\n",
       "      <td>4.06</td>\n",
       "      <td>0.851472</td>\n",
       "      <td>1</td>\n",
       "      <td>STNWG</td>\n",
       "      <td>2</td>\n",
       "      <td>M</td>\n",
       "      <td>F</td>\n",
       "      <td>3</td>\n",
       "    </tr>\n",
       "  </tbody>\n",
       "</table>\n",
       "</div>"
      ],
      "text/plain": [
       "   veh_value  exposure  numclaims veh_body veh_age gender area agecat\n",
       "0       1.66  0.484600          1    SEDAN       3      M    B      6\n",
       "1       1.51  0.993840          1    SEDAN       3      F    F      4\n",
       "2       0.76  0.539357          1    HBACK       3      M    C      4\n",
       "3       1.89  0.654346          2    STNWG       3      M    F      2\n",
       "4       4.06  0.851472          1    STNWG       2      M    F      3"
      ]
     },
     "execution_count": 71,
     "metadata": {},
     "output_type": "execute_result"
    }
   ],
   "source": [
    "# Display the first few rows of the encoded dataset\n",
    "X.head()"
   ]
  },
  {
   "cell_type": "code",
   "execution_count": 72,
   "metadata": {},
   "outputs": [],
   "source": [
    "# Split the data\n",
    "X_train, X_test, y_train, y_test = train_test_split(\n",
    "    X_encoded, y, test_size=0.2, random_state=42\n",
    ")"
   ]
  },
  {
   "cell_type": "code",
   "execution_count": 73,
   "metadata": {},
   "outputs": [
    {
     "name": "stdout",
     "output_type": "stream",
     "text": [
      "Requirement already satisfied: xgboost in /Library/Frameworks/Python.framework/Versions/3.12/lib/python3.12/site-packages (2.1.2)\n",
      "Requirement already satisfied: numpy in /Library/Frameworks/Python.framework/Versions/3.12/lib/python3.12/site-packages (from xgboost) (2.0.2)\n",
      "Requirement already satisfied: scipy in /Library/Frameworks/Python.framework/Versions/3.12/lib/python3.12/site-packages (from xgboost) (1.14.1)\n"
     ]
    }
   ],
   "source": [
    "# Install xgboost (only needs to be done once)\n",
    "!pip install xgboost\n",
    "\n",
    "import xgboost as xgb\n",
    "\n",
    "# Initialize the model\n",
    "xgb_regressor = xgb.XGBRegressor(\n",
    "      n_estimators=500,\n",
    "      learning_rate=0.1,\n",
    "      max_depth=6,\n",
    "      random_state=42\n",
    ")\n",
    "\n",
    "# Train the model\n",
    "xgb_regressor.fit(X_train, y_train)\n",
    "\n",
    "# Make predictions\n",
    "y_pred = xgb_regressor.predict(X_test)"
   ]
  },
  {
   "cell_type": "code",
   "execution_count": 74,
   "metadata": {},
   "outputs": [],
   "source": [
    "# from sklearn.model_selection import RandomizedSearchCV\n",
    "# from sklearn.ensemble import VotingRegressor\n",
    "# from sklearn.ensemble import GradientBoostingRegressor\n",
    "\n",
    "# param_grid = {\n",
    "#     # Parameters for XGBoost\n",
    "#     'xgb__n_estimators': [500],\n",
    "#     'xgb__max_depth': [4],\n",
    "#     'xgb__learning_rate': [0.01],\n",
    "#     'xgb__subsample': [0.8],\n",
    "#     'xgb__colsample_bytree': [0.8],\n",
    "    \n",
    "#     # Parameters for RandomForest\n",
    "#     'rf__n_estimators': [100, 500],\n",
    "#     'rf__max_depth': [None, 10],\n",
    "#     'rf__max_features': ['sqrt'],\n",
    "#     'rf__min_samples_split': [2, 5],\n",
    "    \n",
    "#     # Parameters for GradientBoostingRegressor\n",
    "#     'gbr__n_estimators': [100, 500],\n",
    "#     'gbr__max_depth': [3, 5],\n",
    "#     'gbr__learning_rate': [0.01, 0.1],\n",
    "#     'gbr__subsample': [0.8, 1]\n",
    "# }\n",
    "\n",
    "# # Initialize individual models\n",
    "# model1 = xgb.XGBRegressor(random_state=42)\n",
    "# model2 = RandomForestRegressor(n_estimators=500, random_state=42)\n",
    "# model3 = GradientBoostingRegressor(random_state=42)\n",
    "\n",
    "# # Combine models\n",
    "# ensemble_model = VotingRegressor([\n",
    "#     ('xgb', model1),\n",
    "#     ('rf', model2),\n",
    "#     ('gbr', model3)\n",
    "# ])\n",
    "\n",
    "# # Train ensemble model\n",
    "# ensemble_model.fit(X_train, y_train)\n",
    "\n",
    "# random_search = RandomizedSearchCV(\n",
    "#     estimator=ensemble_model,\n",
    "#     param_distributions=param_grid,\n",
    "#     n_iter=20,\n",
    "#     scoring='neg_mean_squared_error',\n",
    "#     cv=3,\n",
    "#     verbose=1,\n",
    "#     random_state=42\n",
    "#     #n_jobs=-1\n",
    "# )\n",
    "\n",
    "# random_search.fit(X_train, y_train)\n",
    "\n",
    "# print(\"Best parameters found: \", random_search.best_params_)\n",
    "\n",
    "# # Use the best estimator\n",
    "# ensemble_best = random_search.best_estimator_\n",
    "\n",
    "# # Make predictions and evaluate\n",
    "# y_pred = ensemble_best.predict(X_test)\n",
    "\n",
    "# # Evaluate the model\n",
    "# mse = mean_squared_error(y_test, y_pred)\n",
    "# my_rmse = mse ** 0.5\n",
    "# mae = mean_absolute_error(y_test, y_pred)\n",
    "# r2 = r2_score(y_test, y_pred)\n",
    "\n",
    "# print(f\"Optimized RMSE: {my_rmse:.2f}\")\n",
    "# print(f\"Optimized MAE: {mae:.2f}\")\n",
    "# print(f\"Optimized R² Score: {r2:.4f}\")"
   ]
  },
  {
   "cell_type": "code",
   "execution_count": 75,
   "metadata": {},
   "outputs": [],
   "source": [
    "# Create dataloader for Stage 2\n",
    "def create_stage2_dataloader(df_stage2, valid_pct=0.2, bs=64):\n",
    "    procs = [Categorify, FillMissing, Normalize]\n",
    "    splits = RandomSplitter(valid_pct=valid_pct, seed=42)(range_of(df_stage2))\n",
    "    to_regression = TabularPandas(\n",
    "        df_stage2,\n",
    "        procs=procs,\n",
    "        cat_names=cat_names_stage2,\n",
    "        cont_names=cont_names_stage2,\n",
    "        y_names=dep_var_stage2,\n",
    "        y_block=RegressionBlock(),\n",
    "        splits=splits\n",
    "    )\n",
    "    dls_regression = to_regression.dataloaders(bs=bs)\n",
    "    return dls_regression"
   ]
  },
  {
   "cell_type": "markdown",
   "metadata": {},
   "source": []
  },
  {
   "cell_type": "code",
   "execution_count": 76,
   "metadata": {},
   "outputs": [],
   "source": [
    "# Train the model with the best parameters\n",
    "def train_stage2_model_with_params(n_layers, layer_sizes, lr):\n",
    "    dls_regression = create_stage2_dataloader(df_stage2)\n",
    "\n",
    "    # Set y_range based on min and max of log-transformed targets\n",
    "    min_log_y = df_stage2[dep_var_stage2].min()\n",
    "    max_log_y = df_stage2[dep_var_stage2].max() * 1.1  # Slightly extend the max\n",
    "    y_range = (min_log_y, max_log_y)\n",
    "    print(f\"y_range: {y_range}\")\n",
    "    \n",
    "    max_y = df_stage2[dep_var_stage2].max() * 1.2  # Adjust y_range as needed\n",
    "    learn = tabular_learner(\n",
    "        dls_regression,\n",
    "        layers=layer_sizes,\n",
    "        y_range=(y_range),\n",
    "        loss_func=F.mse_loss,\n",
    "        metrics=rmse\n",
    "    )\n",
    "    n_epochs = 20  # Adjust as needed\n",
    "    learn.fit_one_cycle(n_epochs, lr)\n",
    "    # After training, evaluate the model on the validation set\n",
    "    val_loss = learn.validate()[0]\n",
    "    return learn, val_loss"
   ]
  },
  {
   "cell_type": "code",
   "execution_count": 77,
   "metadata": {},
   "outputs": [
    {
     "name": "stdout",
     "output_type": "stream",
     "text": [
      "\n",
      "Training with layers=[100, 50], lr=0.001\n",
      "y_range: (np.float64(200.0), np.float64(61514.34286800001))\n"
     ]
    },
    {
     "data": {
      "text/html": [
       "\n",
       "<style>\n",
       "    /* Turns off some styling */\n",
       "    progress {\n",
       "        /* gets rid of default border in Firefox and Opera. */\n",
       "        border: none;\n",
       "        /* Needs to be in here for Safari polyfill so background images work as expected. */\n",
       "        background-size: auto;\n",
       "    }\n",
       "    progress:not([value]), progress:not([value])::-webkit-progress-bar {\n",
       "        background: repeating-linear-gradient(45deg, #7e7e7e, #7e7e7e 10px, #5c5c5c 10px, #5c5c5c 20px);\n",
       "    }\n",
       "    .progress-bar-interrupted, .progress-bar-interrupted::-webkit-progress-bar {\n",
       "        background: #F44336;\n",
       "    }\n",
       "</style>\n"
      ],
      "text/plain": [
       "<IPython.core.display.HTML object>"
      ]
     },
     "metadata": {},
     "output_type": "display_data"
    },
    {
     "data": {
      "text/html": [
       "<table border=\"1\" class=\"dataframe\">\n",
       "  <thead>\n",
       "    <tr style=\"text-align: left;\">\n",
       "      <th>epoch</th>\n",
       "      <th>train_loss</th>\n",
       "      <th>valid_loss</th>\n",
       "      <th>_rmse</th>\n",
       "      <th>time</th>\n",
       "    </tr>\n",
       "  </thead>\n",
       "  <tbody>\n",
       "    <tr>\n",
       "      <td>0</td>\n",
       "      <td>859663872.000000</td>\n",
       "      <td>831446912.000000</td>\n",
       "      <td>28834.818359</td>\n",
       "      <td>00:01</td>\n",
       "    </tr>\n",
       "    <tr>\n",
       "      <td>1</td>\n",
       "      <td>757775360.000000</td>\n",
       "      <td>690030976.000000</td>\n",
       "      <td>26268.441406</td>\n",
       "      <td>00:00</td>\n",
       "    </tr>\n",
       "    <tr>\n",
       "      <td>2</td>\n",
       "      <td>668399168.000000</td>\n",
       "      <td>573193280.000000</td>\n",
       "      <td>23941.455078</td>\n",
       "      <td>00:00</td>\n",
       "    </tr>\n",
       "    <tr>\n",
       "      <td>3</td>\n",
       "      <td>505693312.000000</td>\n",
       "      <td>332884640.000000</td>\n",
       "      <td>18245.126953</td>\n",
       "      <td>00:00</td>\n",
       "    </tr>\n",
       "    <tr>\n",
       "      <td>4</td>\n",
       "      <td>286880064.000000</td>\n",
       "      <td>119881904.000000</td>\n",
       "      <td>10949.058594</td>\n",
       "      <td>00:00</td>\n",
       "    </tr>\n",
       "    <tr>\n",
       "      <td>5</td>\n",
       "      <td>136877344.000000</td>\n",
       "      <td>50618396.000000</td>\n",
       "      <td>7114.660645</td>\n",
       "      <td>00:00</td>\n",
       "    </tr>\n",
       "    <tr>\n",
       "      <td>6</td>\n",
       "      <td>64594484.000000</td>\n",
       "      <td>30966086.000000</td>\n",
       "      <td>5564.717773</td>\n",
       "      <td>00:00</td>\n",
       "    </tr>\n",
       "    <tr>\n",
       "      <td>7</td>\n",
       "      <td>34800996.000000</td>\n",
       "      <td>22452560.000000</td>\n",
       "      <td>4738.413086</td>\n",
       "      <td>00:00</td>\n",
       "    </tr>\n",
       "    <tr>\n",
       "      <td>8</td>\n",
       "      <td>22148490.000000</td>\n",
       "      <td>19818774.000000</td>\n",
       "      <td>4451.828125</td>\n",
       "      <td>00:00</td>\n",
       "    </tr>\n",
       "    <tr>\n",
       "      <td>9</td>\n",
       "      <td>17566298.000000</td>\n",
       "      <td>17909784.000000</td>\n",
       "      <td>4231.995117</td>\n",
       "      <td>00:00</td>\n",
       "    </tr>\n",
       "    <tr>\n",
       "      <td>10</td>\n",
       "      <td>13780948.000000</td>\n",
       "      <td>16346734.000000</td>\n",
       "      <td>4043.109619</td>\n",
       "      <td>00:00</td>\n",
       "    </tr>\n",
       "    <tr>\n",
       "      <td>11</td>\n",
       "      <td>13533358.000000</td>\n",
       "      <td>16613131.000000</td>\n",
       "      <td>4075.920898</td>\n",
       "      <td>00:00</td>\n",
       "    </tr>\n",
       "    <tr>\n",
       "      <td>12</td>\n",
       "      <td>12818645.000000</td>\n",
       "      <td>15979874.000000</td>\n",
       "      <td>3997.483398</td>\n",
       "      <td>00:00</td>\n",
       "    </tr>\n",
       "    <tr>\n",
       "      <td>13</td>\n",
       "      <td>10741868.000000</td>\n",
       "      <td>15282773.000000</td>\n",
       "      <td>3909.318848</td>\n",
       "      <td>00:00</td>\n",
       "    </tr>\n",
       "    <tr>\n",
       "      <td>14</td>\n",
       "      <td>10008627.000000</td>\n",
       "      <td>15772920.000000</td>\n",
       "      <td>3971.513672</td>\n",
       "      <td>00:00</td>\n",
       "    </tr>\n",
       "    <tr>\n",
       "      <td>15</td>\n",
       "      <td>10368704.000000</td>\n",
       "      <td>15407107.000000</td>\n",
       "      <td>3925.188721</td>\n",
       "      <td>00:00</td>\n",
       "    </tr>\n",
       "    <tr>\n",
       "      <td>16</td>\n",
       "      <td>11786994.000000</td>\n",
       "      <td>15433717.000000</td>\n",
       "      <td>3928.577148</td>\n",
       "      <td>00:00</td>\n",
       "    </tr>\n",
       "    <tr>\n",
       "      <td>17</td>\n",
       "      <td>11019854.000000</td>\n",
       "      <td>15457359.000000</td>\n",
       "      <td>3931.584473</td>\n",
       "      <td>00:00</td>\n",
       "    </tr>\n",
       "    <tr>\n",
       "      <td>18</td>\n",
       "      <td>11917758.000000</td>\n",
       "      <td>15208357.000000</td>\n",
       "      <td>3899.789307</td>\n",
       "      <td>00:00</td>\n",
       "    </tr>\n",
       "    <tr>\n",
       "      <td>19</td>\n",
       "      <td>11171925.000000</td>\n",
       "      <td>15336739.000000</td>\n",
       "      <td>3916.214844</td>\n",
       "      <td>00:00</td>\n",
       "    </tr>\n",
       "  </tbody>\n",
       "</table>"
      ],
      "text/plain": [
       "<IPython.core.display.HTML object>"
      ]
     },
     "metadata": {},
     "output_type": "display_data"
    },
    {
     "data": {
      "text/html": [
       "\n",
       "<style>\n",
       "    /* Turns off some styling */\n",
       "    progress {\n",
       "        /* gets rid of default border in Firefox and Opera. */\n",
       "        border: none;\n",
       "        /* Needs to be in here for Safari polyfill so background images work as expected. */\n",
       "        background-size: auto;\n",
       "    }\n",
       "    progress:not([value]), progress:not([value])::-webkit-progress-bar {\n",
       "        background: repeating-linear-gradient(45deg, #7e7e7e, #7e7e7e 10px, #5c5c5c 10px, #5c5c5c 20px);\n",
       "    }\n",
       "    .progress-bar-interrupted, .progress-bar-interrupted::-webkit-progress-bar {\n",
       "        background: #F44336;\n",
       "    }\n",
       "</style>\n"
      ],
      "text/plain": [
       "<IPython.core.display.HTML object>"
      ]
     },
     "metadata": {},
     "output_type": "display_data"
    },
    {
     "data": {
      "text/html": [],
      "text/plain": [
       "<IPython.core.display.HTML object>"
      ]
     },
     "metadata": {},
     "output_type": "display_data"
    },
    {
     "data": {
      "text/html": [
       "\n",
       "<style>\n",
       "    /* Turns off some styling */\n",
       "    progress {\n",
       "        /* gets rid of default border in Firefox and Opera. */\n",
       "        border: none;\n",
       "        /* Needs to be in here for Safari polyfill so background images work as expected. */\n",
       "        background-size: auto;\n",
       "    }\n",
       "    progress:not([value]), progress:not([value])::-webkit-progress-bar {\n",
       "        background: repeating-linear-gradient(45deg, #7e7e7e, #7e7e7e 10px, #5c5c5c 10px, #5c5c5c 20px);\n",
       "    }\n",
       "    .progress-bar-interrupted, .progress-bar-interrupted::-webkit-progress-bar {\n",
       "        background: #F44336;\n",
       "    }\n",
       "</style>\n"
      ],
      "text/plain": [
       "<IPython.core.display.HTML object>"
      ]
     },
     "metadata": {},
     "output_type": "display_data"
    },
    {
     "data": {
      "text/html": [],
      "text/plain": [
       "<IPython.core.display.HTML object>"
      ]
     },
     "metadata": {},
     "output_type": "display_data"
    },
    {
     "name": "stdout",
     "output_type": "stream",
     "text": [
      "RMSE: 4095.1123046875\n",
      "\n",
      "Training with layers=[100, 50], lr=0.01\n",
      "y_range: (np.float64(200.0), np.float64(61514.34286800001))\n"
     ]
    },
    {
     "data": {
      "text/html": [
       "\n",
       "<style>\n",
       "    /* Turns off some styling */\n",
       "    progress {\n",
       "        /* gets rid of default border in Firefox and Opera. */\n",
       "        border: none;\n",
       "        /* Needs to be in here for Safari polyfill so background images work as expected. */\n",
       "        background-size: auto;\n",
       "    }\n",
       "    progress:not([value]), progress:not([value])::-webkit-progress-bar {\n",
       "        background: repeating-linear-gradient(45deg, #7e7e7e, #7e7e7e 10px, #5c5c5c 10px, #5c5c5c 20px);\n",
       "    }\n",
       "    .progress-bar-interrupted, .progress-bar-interrupted::-webkit-progress-bar {\n",
       "        background: #F44336;\n",
       "    }\n",
       "</style>\n"
      ],
      "text/plain": [
       "<IPython.core.display.HTML object>"
      ]
     },
     "metadata": {},
     "output_type": "display_data"
    },
    {
     "data": {
      "text/html": [
       "<table border=\"1\" class=\"dataframe\">\n",
       "  <thead>\n",
       "    <tr style=\"text-align: left;\">\n",
       "      <th>epoch</th>\n",
       "      <th>train_loss</th>\n",
       "      <th>valid_loss</th>\n",
       "      <th>_rmse</th>\n",
       "      <th>time</th>\n",
       "    </tr>\n",
       "  </thead>\n",
       "  <tbody>\n",
       "    <tr>\n",
       "      <td>0</td>\n",
       "      <td>709981632.000000</td>\n",
       "      <td>682819584.000000</td>\n",
       "      <td>26130.816406</td>\n",
       "      <td>00:00</td>\n",
       "    </tr>\n",
       "    <tr>\n",
       "      <td>1</td>\n",
       "      <td>411476864.000000</td>\n",
       "      <td>82057872.000000</td>\n",
       "      <td>9058.580078</td>\n",
       "      <td>00:00</td>\n",
       "    </tr>\n",
       "    <tr>\n",
       "      <td>2</td>\n",
       "      <td>135378640.000000</td>\n",
       "      <td>15752849.000000</td>\n",
       "      <td>3968.985840</td>\n",
       "      <td>00:00</td>\n",
       "    </tr>\n",
       "    <tr>\n",
       "      <td>3</td>\n",
       "      <td>50220676.000000</td>\n",
       "      <td>16192137.000000</td>\n",
       "      <td>4023.945312</td>\n",
       "      <td>00:00</td>\n",
       "    </tr>\n",
       "    <tr>\n",
       "      <td>4</td>\n",
       "      <td>24524358.000000</td>\n",
       "      <td>17961740.000000</td>\n",
       "      <td>4238.129395</td>\n",
       "      <td>00:00</td>\n",
       "    </tr>\n",
       "    <tr>\n",
       "      <td>5</td>\n",
       "      <td>15561489.000000</td>\n",
       "      <td>17050154.000000</td>\n",
       "      <td>4129.183594</td>\n",
       "      <td>00:00</td>\n",
       "    </tr>\n",
       "    <tr>\n",
       "      <td>6</td>\n",
       "      <td>13567144.000000</td>\n",
       "      <td>17843614.000000</td>\n",
       "      <td>4224.170410</td>\n",
       "      <td>00:00</td>\n",
       "    </tr>\n",
       "    <tr>\n",
       "      <td>7</td>\n",
       "      <td>11094627.000000</td>\n",
       "      <td>16751662.000000</td>\n",
       "      <td>4092.879395</td>\n",
       "      <td>00:00</td>\n",
       "    </tr>\n",
       "    <tr>\n",
       "      <td>8</td>\n",
       "      <td>11689888.000000</td>\n",
       "      <td>16140828.000000</td>\n",
       "      <td>4017.564941</td>\n",
       "      <td>00:00</td>\n",
       "    </tr>\n",
       "    <tr>\n",
       "      <td>9</td>\n",
       "      <td>11713603.000000</td>\n",
       "      <td>16944820.000000</td>\n",
       "      <td>4116.408691</td>\n",
       "      <td>00:00</td>\n",
       "    </tr>\n",
       "    <tr>\n",
       "      <td>10</td>\n",
       "      <td>11941749.000000</td>\n",
       "      <td>16535386.000000</td>\n",
       "      <td>4066.372803</td>\n",
       "      <td>00:00</td>\n",
       "    </tr>\n",
       "    <tr>\n",
       "      <td>11</td>\n",
       "      <td>11745796.000000</td>\n",
       "      <td>16762945.000000</td>\n",
       "      <td>4094.257568</td>\n",
       "      <td>00:00</td>\n",
       "    </tr>\n",
       "    <tr>\n",
       "      <td>12</td>\n",
       "      <td>13963719.000000</td>\n",
       "      <td>16775347.000000</td>\n",
       "      <td>4095.771484</td>\n",
       "      <td>00:00</td>\n",
       "    </tr>\n",
       "    <tr>\n",
       "      <td>13</td>\n",
       "      <td>12059656.000000</td>\n",
       "      <td>16554201.000000</td>\n",
       "      <td>4068.685303</td>\n",
       "      <td>00:00</td>\n",
       "    </tr>\n",
       "    <tr>\n",
       "      <td>14</td>\n",
       "      <td>12705721.000000</td>\n",
       "      <td>16821244.000000</td>\n",
       "      <td>4101.371094</td>\n",
       "      <td>00:00</td>\n",
       "    </tr>\n",
       "    <tr>\n",
       "      <td>15</td>\n",
       "      <td>12158173.000000</td>\n",
       "      <td>16820862.000000</td>\n",
       "      <td>4101.324219</td>\n",
       "      <td>00:00</td>\n",
       "    </tr>\n",
       "    <tr>\n",
       "      <td>16</td>\n",
       "      <td>11114966.000000</td>\n",
       "      <td>16545903.000000</td>\n",
       "      <td>4067.665771</td>\n",
       "      <td>00:00</td>\n",
       "    </tr>\n",
       "    <tr>\n",
       "      <td>17</td>\n",
       "      <td>9712827.000000</td>\n",
       "      <td>16499023.000000</td>\n",
       "      <td>4061.898682</td>\n",
       "      <td>00:00</td>\n",
       "    </tr>\n",
       "    <tr>\n",
       "      <td>18</td>\n",
       "      <td>10493573.000000</td>\n",
       "      <td>16479322.000000</td>\n",
       "      <td>4059.473145</td>\n",
       "      <td>00:00</td>\n",
       "    </tr>\n",
       "    <tr>\n",
       "      <td>19</td>\n",
       "      <td>9869974.000000</td>\n",
       "      <td>16507803.000000</td>\n",
       "      <td>4062.979492</td>\n",
       "      <td>00:00</td>\n",
       "    </tr>\n",
       "  </tbody>\n",
       "</table>"
      ],
      "text/plain": [
       "<IPython.core.display.HTML object>"
      ]
     },
     "metadata": {},
     "output_type": "display_data"
    },
    {
     "data": {
      "text/html": [
       "\n",
       "<style>\n",
       "    /* Turns off some styling */\n",
       "    progress {\n",
       "        /* gets rid of default border in Firefox and Opera. */\n",
       "        border: none;\n",
       "        /* Needs to be in here for Safari polyfill so background images work as expected. */\n",
       "        background-size: auto;\n",
       "    }\n",
       "    progress:not([value]), progress:not([value])::-webkit-progress-bar {\n",
       "        background: repeating-linear-gradient(45deg, #7e7e7e, #7e7e7e 10px, #5c5c5c 10px, #5c5c5c 20px);\n",
       "    }\n",
       "    .progress-bar-interrupted, .progress-bar-interrupted::-webkit-progress-bar {\n",
       "        background: #F44336;\n",
       "    }\n",
       "</style>\n"
      ],
      "text/plain": [
       "<IPython.core.display.HTML object>"
      ]
     },
     "metadata": {},
     "output_type": "display_data"
    },
    {
     "data": {
      "text/html": [],
      "text/plain": [
       "<IPython.core.display.HTML object>"
      ]
     },
     "metadata": {},
     "output_type": "display_data"
    },
    {
     "data": {
      "text/html": [
       "\n",
       "<style>\n",
       "    /* Turns off some styling */\n",
       "    progress {\n",
       "        /* gets rid of default border in Firefox and Opera. */\n",
       "        border: none;\n",
       "        /* Needs to be in here for Safari polyfill so background images work as expected. */\n",
       "        background-size: auto;\n",
       "    }\n",
       "    progress:not([value]), progress:not([value])::-webkit-progress-bar {\n",
       "        background: repeating-linear-gradient(45deg, #7e7e7e, #7e7e7e 10px, #5c5c5c 10px, #5c5c5c 20px);\n",
       "    }\n",
       "    .progress-bar-interrupted, .progress-bar-interrupted::-webkit-progress-bar {\n",
       "        background: #F44336;\n",
       "    }\n",
       "</style>\n"
      ],
      "text/plain": [
       "<IPython.core.display.HTML object>"
      ]
     },
     "metadata": {},
     "output_type": "display_data"
    },
    {
     "data": {
      "text/html": [],
      "text/plain": [
       "<IPython.core.display.HTML object>"
      ]
     },
     "metadata": {},
     "output_type": "display_data"
    },
    {
     "name": "stdout",
     "output_type": "stream",
     "text": [
      "RMSE: 4093.61181640625\n",
      "Stage 2 model saved successfully as 'stage2_claim_amount_regressor.pkl'\n",
      "Best Layer Configuration: [100, 50]\n",
      "Best Learning Rate: 0.01\n",
      "Best Validation Loss: 16507803.0000\n",
      "RMSE: $4093.61\n"
     ]
    }
   ],
   "source": [
    "# Define Stage 2 parameter grid\n",
    "layer_configs_stage2 = [\n",
    "    [100, 50],\n",
    "    #[200, 100],\n",
    "    # Add more configurations if needed\n",
    "]\n",
    "learning_rates_stage2 = [1e-3, 1e-2]\n",
    "\n",
    "# Perform Stage 2 grid search\n",
    "best_val_loss = float('inf')\n",
    "best_rmse = float('inf')\n",
    "best_learn_stage2 = None\n",
    "best_layers = None\n",
    "best_lr = None\n",
    "\n",
    "for layers in layer_configs_stage2:\n",
    "    for lr in learning_rates_stage2:\n",
    "        print(f\"\\nTraining with layers={layers}, lr={lr}\")\n",
    "        learn, val_loss = train_stage2_model_with_params(len(layers), layers, lr)\n",
    "\n",
    "        # Get predictions and calculate RMSE\n",
    "        preds, targs = learn.get_preds()\n",
    "        current_rmse = torch.sqrt(((preds.squeeze() - targs) ** 2).mean())\n",
    "        current_rmse = float(current_rmse)  # Convert to Python float\n",
    "\n",
    "        print(f\"RMSE: {current_rmse}\")\n",
    "        if current_rmse < best_rmse:\n",
    "            best_rmse = current_rmse\n",
    "            best_val_loss = val_loss\n",
    "            best_learn_stage2 = learn\n",
    "            best_layers = layers\n",
    "            best_lr = lr\n",
    "\n",
    "# Save the best Stage 2 model\n",
    "if best_learn_stage2 is not None:\n",
    "    best_learn_stage2.export('stage2_claim_amount_regressor.pkl')\n",
    "    print(\"Stage 2 model saved successfully as 'stage2_claim_amount_regressor.pkl'\")\n",
    "    print(f\"Best Layer Configuration: {best_layers}\")\n",
    "    print(f\"Best Learning Rate: {best_lr}\")\n",
    "    print(f\"Best Validation Loss: {best_val_loss:.4f}\")\n",
    "    print(f\"RMSE: ${best_rmse:.2f}\")\n",
    "else:\n",
    "    print(\"No model was trained.\")"
   ]
  },
  {
   "cell_type": "code",
   "execution_count": 78,
   "metadata": {},
   "outputs": [
    {
     "data": {
      "text/html": [
       "\n",
       "<style>\n",
       "    /* Turns off some styling */\n",
       "    progress {\n",
       "        /* gets rid of default border in Firefox and Opera. */\n",
       "        border: none;\n",
       "        /* Needs to be in here for Safari polyfill so background images work as expected. */\n",
       "        background-size: auto;\n",
       "    }\n",
       "    progress:not([value]), progress:not([value])::-webkit-progress-bar {\n",
       "        background: repeating-linear-gradient(45deg, #7e7e7e, #7e7e7e 10px, #5c5c5c 10px, #5c5c5c 20px);\n",
       "    }\n",
       "    .progress-bar-interrupted, .progress-bar-interrupted::-webkit-progress-bar {\n",
       "        background: #F44336;\n",
       "    }\n",
       "</style>\n"
      ],
      "text/plain": [
       "<IPython.core.display.HTML object>"
      ]
     },
     "metadata": {},
     "output_type": "display_data"
    },
    {
     "data": {
      "text/html": [],
      "text/plain": [
       "<IPython.core.display.HTML object>"
      ]
     },
     "metadata": {},
     "output_type": "display_data"
    },
    {
     "name": "stdout",
     "output_type": "stream",
     "text": [
      "Checking for NaNs or infinite values in predictions and targets...\n",
      "NaNs in preds: 0\n",
      "Infinite values in preds: 0\n",
      "NaNs in targs: 0\n",
      "Infinite values in targs: 0\n",
      "\n",
      "Predictions (log scale) - Min: 241.05197143554688, Max: 8713.2578125\n",
      "Targets (log scale) - Min: 200.0, Max: 55922.12890625\n"
     ]
    },
    {
     "name": "stderr",
     "output_type": "stream",
     "text": [
      "/var/folders/g5/m1slb69s58l1xjf8nbrnywf00000gn/T/ipykernel_80367/1556420379.py:9: DeprecationWarning: __array_wrap__ must accept context and return_scalar arguments (positionally) in the future. (Deprecated NumPy 2.0)\n",
      "  print(f\"NaNs in preds: {np.isnan(preds).sum()}\")\n",
      "/var/folders/g5/m1slb69s58l1xjf8nbrnywf00000gn/T/ipykernel_80367/1556420379.py:10: DeprecationWarning: __array_wrap__ must accept context and return_scalar arguments (positionally) in the future. (Deprecated NumPy 2.0)\n",
      "  print(f\"Infinite values in preds: {np.isinf(preds).sum()}\")\n",
      "/var/folders/g5/m1slb69s58l1xjf8nbrnywf00000gn/T/ipykernel_80367/1556420379.py:12: DeprecationWarning: __array_wrap__ must accept context and return_scalar arguments (positionally) in the future. (Deprecated NumPy 2.0)\n",
      "  print(f\"NaNs in targs: {np.isnan(targs).sum()}\")\n",
      "/var/folders/g5/m1slb69s58l1xjf8nbrnywf00000gn/T/ipykernel_80367/1556420379.py:13: DeprecationWarning: __array_wrap__ must accept context and return_scalar arguments (positionally) in the future. (Deprecated NumPy 2.0)\n",
      "  print(f\"Infinite values in targs: {np.isinf(targs).sum()}\")\n"
     ]
    }
   ],
   "source": [
    "# After training and predicting\n",
    "from sklearn.metrics import mean_squared_error\n",
    "\n",
    "# Get predictions and targets on validation set\n",
    "preds, targs = best_learn_stage2.get_preds()\n",
    "\n",
    "# Check for NaNs or infinite values in preds and targs\n",
    "print(\"Checking for NaNs or infinite values in predictions and targets...\")\n",
    "print(f\"NaNs in preds: {np.isnan(preds).sum()}\")\n",
    "print(f\"Infinite values in preds: {np.isinf(preds).sum()}\")\n",
    "\n",
    "print(f\"NaNs in targs: {np.isnan(targs).sum()}\")\n",
    "print(f\"Infinite values in targs: {np.isinf(targs).sum()}\")\n",
    "\n",
    "# Check min and max values\n",
    "print(f\"\\nPredictions (log scale) - Min: {preds.min()}, Max: {preds.max()}\")\n",
    "print(f\"Targets (log scale) - Min: {targs.min()}, Max: {targs.max()}\")\n"
   ]
  },
  {
   "cell_type": "code",
   "execution_count": 79,
   "metadata": {},
   "outputs": [
    {
     "data": {
      "text/plain": [
       "'\\nHugging Face \\n===============================\\n- Save and export Stage 2 Trained Model\\n'"
      ]
     },
     "execution_count": 79,
     "metadata": {},
     "output_type": "execute_result"
    }
   ],
   "source": [
    "\"\"\"\n",
    "Hugging Face \n",
    "===============================\n",
    "- Save and export Stage 2 Trained Model\n",
    "\"\"\""
   ]
  },
  {
   "cell_type": "code",
   "execution_count": 80,
   "metadata": {},
   "outputs": [
    {
     "name": "stdout",
     "output_type": "stream",
     "text": [
      "Stage 2 model saved successfully as 'stage2_claim_amount_regressor.pkl'\n"
     ]
    }
   ],
   "source": [
    "import joblib\n",
    "\n",
    "# Save the Stage 2 model\n",
    "best_learn_stage2.export('stage2_claim_amount_regressor.pkl')\n",
    "\n",
    "print(\"Stage 2 model saved successfully as 'stage2_claim_amount_regressor.pkl'\")"
   ]
  }
 ],
 "metadata": {
  "kernelspec": {
   "display_name": "Python 3 (ipykernel)",
   "language": "python",
   "name": "python3"
  },
  "language_info": {
   "codemirror_mode": {
    "name": "ipython",
    "version": 3
   },
   "file_extension": ".py",
   "mimetype": "text/x-python",
   "name": "python",
   "nbconvert_exporter": "python",
   "pygments_lexer": "ipython3",
   "version": "3.12.4"
  }
 },
 "nbformat": 4,
 "nbformat_minor": 2
}
